{
  "nbformat": 4,
  "nbformat_minor": 0,
  "metadata": {
    "colab": {
      "name": "2247153_PY4.ipynb",
      "provenance": [],
      "collapsed_sections": []
    },
    "kernelspec": {
      "name": "python3",
      "display_name": "Python 3"
    },
    "language_info": {
      "name": "python"
    }
  },
  "cells": [
    {
      "cell_type": "markdown",
      "source": [
        "QUESTION 1\n",
        " Write a function “MyPassion()”which takes in a sentence (a minimum of 5 words)\n",
        "and returns back a dictionary indicating the “mode” of each word."
      ],
      "metadata": {
        "id": "AVEl9GK1R9hR"
      }
    },
    {
      "cell_type": "code",
      "execution_count": null,
      "metadata": {
        "colab": {
          "base_uri": "https://localhost:8080/"
        },
        "id": "7XtrLPIkP47a",
        "outputId": "661437b3-ceb1-475b-dd82-085e503e060f"
      },
      "outputs": [
        {
          "output_type": "stream",
          "name": "stdout",
          "text": [
            "Enter a sentence: python\n",
            "Invalid. Must conatain atleast 5 words!\n",
            "Enter a sentence: python programming is fun everyday\n",
            "{'python': [], 'programming': ['r', 'g', 'm'], 'is': [], 'fun': [], 'everyday': ['e', 'y']}\n"
          ]
        }
      ],
      "source": [
        "def mode(x): #defining a function that returns mode of word\n",
        "  fre_quency = {} #set\n",
        "  \n",
        "  for i in x: \n",
        "    if i in fre_quency:\n",
        "        fre_quency[i] += 1 #counting if i occurs more than once\n",
        "    else:\n",
        "        fre_quency[i] = 1\n",
        "  return fre_quency\n",
        "\n",
        "def maximum(fre_quency):\n",
        "  num=list(fre_quency.values())\n",
        "  mx=max(num)\n",
        "  if num.count(mx)==len(num):\n",
        "    return 1\n",
        "  else:\n",
        "    return mx\n",
        "def mypassion():\n",
        " sentence=input(\"Enter the sentence: \")\n",
        " res=sentence.split()\n",
        " l=len(res)\n",
        " if(l<5):\n",
        "   print(\"Invalid. Must conatain atleast 5 words!\")#returns the fucntion if user enter invalid input\n",
        "   return mypassion()\n",
        " else:\n",
        "    pass\n",
        " answer=dict()#creates a final dictionary that prints the desired result\n",
        " for i in range(len(res)):\n",
        "  mod=list()\n",
        "  wrd=mode(res[i])\n",
        "  mx=maximum(wrd)\n",
        "\n",
        "  if(mx!=1):\n",
        "    for j in wrd:\n",
        "      if(wrd[j]==mx):\n",
        "        mod.append(j)\n",
        "  \n",
        "  answer[res[i]]=mod\n",
        " print(answer)\n",
        "mypassion()"
      ]
    },
    {
      "cell_type": "markdown",
      "source": [
        "QUESTION 2\n",
        "Creating a Google emulator:"
      ],
      "metadata": {
        "id": "k4X2kamRW5ij"
      }
    },
    {
      "cell_type": "code",
      "source": [
        "import numpy #numpy is used for wokring with arrrays\n",
        "from collections import Counter #has the count of each element\n",
        "\n",
        "def find_closest(test_str, check_l):\n",
        "    scores = {} #set \n",
        "    for ii in check_l:\n",
        "        count = 0\n",
        "        if len(test_str)<=len(ii):\n",
        "            str1, str2 = test_str, ii\n",
        "        else:\n",
        "            str1, str2 = ii, test_str\n",
        "        for jj in range(len(str1)):\n",
        "            count += 1 if str1[jj]==str2[jj] else 0\n",
        "        scores[ii] = count\n",
        "    scores_values        = numpy.array(list(scores.values()))\n",
        "    closest_match_idx    = numpy.argsort(scores_values, axis=0, kind='quicksort')[-1] #used to perform indirect sort\n",
        "    closest_match        = numpy.array(list(scores.keys()))[closest_match_idx]\n",
        "    return closest_match, closest_match_idx\n",
        "\n",
        "word = input(\"Enter the Word :\")\n",
        "lst = ['cherry','pineapple','melon','strawberry','raspberry']\n",
        "value = find_closest(word, lst)\n",
        "print(value)"
      ],
      "metadata": {
        "colab": {
          "base_uri": "https://localhost:8080/"
        },
        "id": "Ck4vzpc2aftP",
        "outputId": "6fa94188-ac3e-4854-b177-a48d93c14115"
      },
      "execution_count": 1,
      "outputs": [
        {
          "output_type": "stream",
          "name": "stdout",
          "text": [
            "Enter Word :berry\n",
            "('strawberry', 3)\n"
          ]
        }
      ]
    }
  ]
}