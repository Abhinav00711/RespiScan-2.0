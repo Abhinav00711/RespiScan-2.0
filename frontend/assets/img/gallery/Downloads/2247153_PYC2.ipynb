{
  "nbformat": 4,
  "nbformat_minor": 0,
  "metadata": {
    "colab": {
      "name": "2247153_PYC2.ipynb",
      "provenance": []
    },
    "kernelspec": {
      "name": "python3",
      "display_name": "Python 3"
    },
    "language_info": {
      "name": "python"
    }
  },
  "cells": [
    {
      "cell_type": "markdown",
      "source": [
        "write python script with list comprehension for the following:\n",
        "1.is given list divisible by 3 or not?\n",
        "2. display multiplicaton table of 15\n",
        "3. square of even nmbers in a list\n",
        "4. sum of digits of all even numbers in a lost\n",
        "5. remove duplicate numbers in a list."
      ],
      "metadata": {
        "id": "1gHw0RJWSQ-F"
      }
    },
    {
      "cell_type": "code",
      "source": [
        "list_num = []\n",
        "in_list=int(input(\"Enter the number upto which you want to find the integers divisble by 3: \"))\n",
        "for x in range(in_list):\n",
        "    if x % 3 == 0:\n",
        "        list_num.append(x)\n",
        "print(list_num)"
      ],
      "metadata": {
        "colab": {
          "base_uri": "https://localhost:8080/"
        },
        "id": "bI5EI4OPUhWX",
        "outputId": "b6c2db9a-39ad-4df3-e85c-219a9cf2c9ac"
      },
      "execution_count": 10,
      "outputs": [
        {
          "output_type": "stream",
          "name": "stdout",
          "text": [
            "Enter the number upto which you want to find the integers divisble by 3: 12\n",
            "[0, 3, 6, 9]\n"
          ]
        }
      ]
    },
    {
      "cell_type": "code",
      "source": [
        "num=15\n",
        "print(\"Table of 15: \")\n",
        "for i  in range(1,11):\n",
        "  print(num,'x',i,'=',num*i)"
      ],
      "metadata": {
        "colab": {
          "base_uri": "https://localhost:8080/"
        },
        "id": "tLgi0I-5V9eq",
        "outputId": "36901eb7-ffe4-4ed9-915b-b9837932f7d7"
      },
      "execution_count": 8,
      "outputs": [
        {
          "output_type": "stream",
          "name": "stdout",
          "text": [
            "Table of 15: \n",
            "15 x 1 = 15\n",
            "15 x 2 = 30\n",
            "15 x 3 = 45\n",
            "15 x 4 = 60\n",
            "15 x 5 = 75\n",
            "15 x 6 = 90\n",
            "15 x 7 = 105\n",
            "15 x 8 = 120\n",
            "15 x 9 = 135\n",
            "15 x 10 = 150\n"
          ]
        }
      ]
    },
    {
      "cell_type": "code",
      "source": [
        "sq_ls=[12,44,21,1,3,22,12,12]\n",
        "print(\"Square of even numbers in given list \")\n",
        "for i in sq_ls:\n",
        "  if i%2==0:\n",
        "    print(i*i)"
      ],
      "metadata": {
        "colab": {
          "base_uri": "https://localhost:8080/"
        },
        "id": "nGhDUAbxWZHd",
        "outputId": "b18ead70-d78e-423e-c607-a16f8a71b80f"
      },
      "execution_count": 22,
      "outputs": [
        {
          "output_type": "stream",
          "name": "stdout",
          "text": [
            "Square of even numbers in given list \n",
            "144\n",
            "1936\n",
            "484\n",
            "144\n",
            "144\n"
          ]
        }
      ]
    },
    {
      "cell_type": "code",
      "source": [
        "l1=[]\n",
        "sum=0\n",
        "even_list=int(input(\"Enter number of digits you want to enter: \"))\n",
        "for x in range(1,even_list):\n",
        "  if x%2==0:\n",
        "    l1.append(x)\n",
        "    sum=sum+x\n",
        "print(sum)"
      ],
      "metadata": {
        "colab": {
          "base_uri": "https://localhost:8080/"
        },
        "id": "BpJA01MqXg-z",
        "outputId": "b9acef8a-d50d-4871-820f-2514c10276f7"
      },
      "execution_count": 20,
      "outputs": [
        {
          "output_type": "stream",
          "name": "stdout",
          "text": [
            "Enter number of digits you want to enter: 10\n",
            "20\n"
          ]
        }
      ]
    },
    {
      "cell_type": "code",
      "source": [
        "rr=[*set(sq_ls)]\n",
        "print(\"list after removing duplicates: \",rr)"
      ],
      "metadata": {
        "colab": {
          "base_uri": "https://localhost:8080/"
        },
        "id": "uBO2De6UZkXB",
        "outputId": "5dfdd4f4-4b66-47e6-cecc-544dc83d5c6b"
      },
      "execution_count": 23,
      "outputs": [
        {
          "output_type": "stream",
          "name": "stdout",
          "text": [
            "list after removing duplicates:  [1, 3, 12, 44, 21, 22]\n"
          ]
        }
      ]
    }
  ]
}