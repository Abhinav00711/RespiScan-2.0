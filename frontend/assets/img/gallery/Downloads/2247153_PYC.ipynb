{
  "nbformat": 4,
  "nbformat_minor": 0,
  "metadata": {
    "colab": {
      "name": "2247153_PYC.ipynb",
      "provenance": []
    },
    "kernelspec": {
      "name": "python3",
      "display_name": "Python 3"
    },
    "language_info": {
      "name": "python"
    }
  },
  "cells": [
    {
      "cell_type": "code",
      "execution_count": 1,
      "metadata": {
        "colab": {
          "base_uri": "https://localhost:8080/"
        },
        "id": "Iu8vXtzFk-Nj",
        "outputId": "863c8844-e285-490f-bda9-a4c93e31b370"
      },
      "outputs": [
        {
          "output_type": "execute_result",
          "data": {
            "text/plain": [
              "['__doc__',\n",
              " '__loader__',\n",
              " '__name__',\n",
              " '__package__',\n",
              " '__spec__',\n",
              " 'acos',\n",
              " 'acosh',\n",
              " 'asin',\n",
              " 'asinh',\n",
              " 'atan',\n",
              " 'atan2',\n",
              " 'atanh',\n",
              " 'ceil',\n",
              " 'copysign',\n",
              " 'cos',\n",
              " 'cosh',\n",
              " 'degrees',\n",
              " 'e',\n",
              " 'erf',\n",
              " 'erfc',\n",
              " 'exp',\n",
              " 'expm1',\n",
              " 'fabs',\n",
              " 'factorial',\n",
              " 'floor',\n",
              " 'fmod',\n",
              " 'frexp',\n",
              " 'fsum',\n",
              " 'gamma',\n",
              " 'gcd',\n",
              " 'hypot',\n",
              " 'inf',\n",
              " 'isclose',\n",
              " 'isfinite',\n",
              " 'isinf',\n",
              " 'isnan',\n",
              " 'ldexp',\n",
              " 'lgamma',\n",
              " 'log',\n",
              " 'log10',\n",
              " 'log1p',\n",
              " 'log2',\n",
              " 'modf',\n",
              " 'nan',\n",
              " 'pi',\n",
              " 'pow',\n",
              " 'radians',\n",
              " 'remainder',\n",
              " 'sin',\n",
              " 'sinh',\n",
              " 'sqrt',\n",
              " 'tan',\n",
              " 'tanh',\n",
              " 'tau',\n",
              " 'trunc']"
            ]
          },
          "metadata": {},
          "execution_count": 1
        }
      ],
      "source": [
        "import math\n",
        "dir(math)"
      ]
    },
    {
      "cell_type": "code",
      "source": [
        "def hey():\n",
        "    '''new python module'''\n",
        "\n",
        "print(hey.__doc__)"
      ],
      "metadata": {
        "colab": {
          "base_uri": "https://localhost:8080/"
        },
        "id": "l7tw41sSl2qt",
        "outputId": "f6fabb5c-e2b9-476c-efd1-d5c5e88e4604"
      },
      "execution_count": 3,
      "outputs": [
        {
          "output_type": "stream",
          "name": "stdout",
          "text": [
            "new python module\n"
          ]
        }
      ]
    },
    {
      "cell_type": "code",
      "source": [
        "#gcd returns the greatest common divisor of two integers\n",
        "print(\"gcd is: \",math.gcd(4,8))"
      ],
      "metadata": {
        "colab": {
          "base_uri": "https://localhost:8080/"
        },
        "id": "vmd3GOYKmP9j",
        "outputId": "7f00ea74-163e-470b-c7a2-6f26d105262e"
      },
      "execution_count": 4,
      "outputs": [
        {
          "output_type": "stream",
          "name": "stdout",
          "text": [
            "gcd is:  4\n"
          ]
        }
      ]
    },
    {
      "cell_type": "code",
      "source": [
        "#cos gives the mathematical value\n",
        "print(\"mathematical value: \",math.cos(2))"
      ],
      "metadata": {
        "colab": {
          "base_uri": "https://localhost:8080/"
        },
        "id": "pN6J6thzmgMY",
        "outputId": "3c2cb20e-3097-449b-b65a-88adebbe291f"
      },
      "execution_count": 6,
      "outputs": [
        {
          "output_type": "stream",
          "name": "stdout",
          "text": [
            "mathematical value:  -0.4161468365471424\n"
          ]
        }
      ]
    },
    {
      "cell_type": "code",
      "source": [
        "print(\"degrees: \",math.degrees(20))"
      ],
      "metadata": {
        "colab": {
          "base_uri": "https://localhost:8080/"
        },
        "id": "c2-Mm3xsmtN3",
        "outputId": "b86aac1f-a59a-467b-b464-ac848c318642"
      },
      "execution_count": 9,
      "outputs": [
        {
          "output_type": "stream",
          "name": "stdout",
          "text": [
            "degrees:  1145.9155902616465\n"
          ]
        }
      ]
    },
    {
      "cell_type": "code",
      "source": [
        "print(\" hyperbolic sin value: \",math.sinh(20))"
      ],
      "metadata": {
        "colab": {
          "base_uri": "https://localhost:8080/"
        },
        "id": "-evb5SV3nQkl",
        "outputId": "02eb4a11-f8b9-4bff-ae3b-839b5bf564eb"
      },
      "execution_count": 10,
      "outputs": [
        {
          "output_type": "stream",
          "name": "stdout",
          "text": [
            " hyperbolic sin value:  242582597.70489514\n"
          ]
        }
      ]
    },
    {
      "cell_type": "code",
      "source": [
        "import statistics\n",
        "dir(statistics)"
      ],
      "metadata": {
        "colab": {
          "base_uri": "https://localhost:8080/"
        },
        "id": "u7BSnp0UnYSX",
        "outputId": "4b6f1399-ee5a-4ec6-ee08-89a18ee21702"
      },
      "execution_count": 11,
      "outputs": [
        {
          "output_type": "execute_result",
          "data": {
            "text/plain": [
              "['Decimal',\n",
              " 'Fraction',\n",
              " 'StatisticsError',\n",
              " '__all__',\n",
              " '__builtins__',\n",
              " '__cached__',\n",
              " '__doc__',\n",
              " '__file__',\n",
              " '__loader__',\n",
              " '__name__',\n",
              " '__package__',\n",
              " '__spec__',\n",
              " '_coerce',\n",
              " '_convert',\n",
              " '_counts',\n",
              " '_exact_ratio',\n",
              " '_fail_neg',\n",
              " '_find_lteq',\n",
              " '_find_rteq',\n",
              " '_isfinite',\n",
              " '_ss',\n",
              " '_sum',\n",
              " 'bisect_left',\n",
              " 'bisect_right',\n",
              " 'collections',\n",
              " 'groupby',\n",
              " 'harmonic_mean',\n",
              " 'math',\n",
              " 'mean',\n",
              " 'median',\n",
              " 'median_grouped',\n",
              " 'median_high',\n",
              " 'median_low',\n",
              " 'mode',\n",
              " 'numbers',\n",
              " 'pstdev',\n",
              " 'pvariance',\n",
              " 'stdev',\n",
              " 'variance']"
            ]
          },
          "metadata": {},
          "execution_count": 11
        }
      ]
    },
    {
      "cell_type": "code",
      "source": [
        "data=[1,4,2,3,4,3]\n",
        "x= statistics.mean(data)\n",
        "print(\"mean is: \",x)"
      ],
      "metadata": {
        "colab": {
          "base_uri": "https://localhost:8080/"
        },
        "id": "wejckfJZngk3",
        "outputId": "9fdeec65-2ad4-4667-eb6c-4aa05a9ae5cb"
      },
      "execution_count": 12,
      "outputs": [
        {
          "output_type": "stream",
          "name": "stdout",
          "text": [
            "mean is:  2.8333333333333335\n"
          ]
        }
      ]
    },
    {
      "cell_type": "code",
      "source": [
        "y=statistics.median(data)\n",
        "print(\"median is: \",y)"
      ],
      "metadata": {
        "colab": {
          "base_uri": "https://localhost:8080/"
        },
        "id": "FLzeSwEIn6ZK",
        "outputId": "f633272e-b48a-4743-c7c5-d74f33d3ac07"
      },
      "execution_count": 13,
      "outputs": [
        {
          "output_type": "stream",
          "name": "stdout",
          "text": [
            "median is:  3.0\n"
          ]
        }
      ]
    },
    {
      "cell_type": "code",
      "source": [
        "import collections\n",
        "dir(collections)"
      ],
      "metadata": {
        "colab": {
          "base_uri": "https://localhost:8080/"
        },
        "id": "RIP61j4eorw3",
        "outputId": "947842a6-33ed-411c-99d8-f77d09368dad"
      },
      "execution_count": 22,
      "outputs": [
        {
          "output_type": "execute_result",
          "data": {
            "text/plain": [
              "['ChainMap',\n",
              " 'Counter',\n",
              " 'OrderedDict',\n",
              " 'UserDict',\n",
              " 'UserList',\n",
              " 'UserString',\n",
              " '_Link',\n",
              " '_OrderedDictItemsView',\n",
              " '_OrderedDictKeysView',\n",
              " '_OrderedDictValuesView',\n",
              " '__all__',\n",
              " '__builtins__',\n",
              " '__cached__',\n",
              " '__doc__',\n",
              " '__file__',\n",
              " '__getattr__',\n",
              " '__loader__',\n",
              " '__name__',\n",
              " '__package__',\n",
              " '__path__',\n",
              " '__spec__',\n",
              " '_chain',\n",
              " '_collections_abc',\n",
              " '_count_elements',\n",
              " '_eq',\n",
              " '_heapq',\n",
              " '_iskeyword',\n",
              " '_itemgetter',\n",
              " '_nt_itemgetters',\n",
              " '_proxy',\n",
              " '_recursive_repr',\n",
              " '_repeat',\n",
              " '_starmap',\n",
              " '_sys',\n",
              " 'abc',\n",
              " 'defaultdict',\n",
              " 'deque',\n",
              " 'namedtuple']"
            ]
          },
          "metadata": {},
          "execution_count": 22
        }
      ]
    },
    {
      "cell_type": "code",
      "source": [
        "from collections import Counter\n",
        "#sequence of items\n",
        "print(Counter(['B','C','D']))\n",
        "print(Counter({'A':2,'B':3}))\n",
        "print(Counter(A=2,B=3))"
      ],
      "metadata": {
        "colab": {
          "base_uri": "https://localhost:8080/"
        },
        "id": "5ZYb_k2so5qq",
        "outputId": "c156c11a-25f9-415a-f1aa-9fe063cf1a2c"
      },
      "execution_count": 24,
      "outputs": [
        {
          "output_type": "stream",
          "name": "stdout",
          "text": [
            "Counter({'B': 1, 'C': 1, 'D': 1})\n",
            "Counter({'B': 3, 'A': 2})\n",
            "Counter({'B': 3, 'A': 2})\n"
          ]
        }
      ]
    },
    {
      "cell_type": "code",
      "source": [
        "import random\n",
        "dir(random)"
      ],
      "metadata": {
        "colab": {
          "base_uri": "https://localhost:8080/"
        },
        "id": "CnuXs63jp2Tg",
        "outputId": "6339f585-a1ef-4a5f-8653-23ff9274f02b"
      },
      "execution_count": 25,
      "outputs": [
        {
          "output_type": "execute_result",
          "data": {
            "text/plain": [
              "['BPF',\n",
              " 'LOG4',\n",
              " 'NV_MAGICCONST',\n",
              " 'RECIP_BPF',\n",
              " 'Random',\n",
              " 'SG_MAGICCONST',\n",
              " 'SystemRandom',\n",
              " 'TWOPI',\n",
              " '_BuiltinMethodType',\n",
              " '_MethodType',\n",
              " '_Sequence',\n",
              " '_Set',\n",
              " '__all__',\n",
              " '__builtins__',\n",
              " '__cached__',\n",
              " '__doc__',\n",
              " '__file__',\n",
              " '__loader__',\n",
              " '__name__',\n",
              " '__package__',\n",
              " '__spec__',\n",
              " '_acos',\n",
              " '_bisect',\n",
              " '_ceil',\n",
              " '_cos',\n",
              " '_e',\n",
              " '_exp',\n",
              " '_inst',\n",
              " '_itertools',\n",
              " '_log',\n",
              " '_os',\n",
              " '_pi',\n",
              " '_random',\n",
              " '_sha512',\n",
              " '_sin',\n",
              " '_sqrt',\n",
              " '_test',\n",
              " '_test_generator',\n",
              " '_urandom',\n",
              " '_warn',\n",
              " 'betavariate',\n",
              " 'choice',\n",
              " 'choices',\n",
              " 'expovariate',\n",
              " 'gammavariate',\n",
              " 'gauss',\n",
              " 'getrandbits',\n",
              " 'getstate',\n",
              " 'lognormvariate',\n",
              " 'normalvariate',\n",
              " 'paretovariate',\n",
              " 'randint',\n",
              " 'random',\n",
              " 'randrange',\n",
              " 'sample',\n",
              " 'seed',\n",
              " 'setstate',\n",
              " 'shuffle',\n",
              " 'triangular',\n",
              " 'uniform',\n",
              " 'vonmisesvariate',\n",
              " 'weibullvariate']"
            ]
          },
          "metadata": {},
          "execution_count": 25
        }
      ]
    },
    {
      "cell_type": "code",
      "source": [
        "# import random\n",
        "import random\n",
        "# prints a random value from the list\n",
        "list1 = [2,4,6,4,5]\n",
        "print(random.choice(list1))"
      ],
      "metadata": {
        "colab": {
          "base_uri": "https://localhost:8080/"
        },
        "id": "2gkllHvhp7PF",
        "outputId": "da0b9363-d303-4528-e681-3e2348e14754"
      },
      "execution_count": 27,
      "outputs": [
        {
          "output_type": "stream",
          "name": "stdout",
          "text": [
            "2\n"
          ]
        }
      ]
    },
    {
      "cell_type": "code",
      "source": [
        "import random\n",
        "\n",
        "print(random.randint(3, 9))"
      ],
      "metadata": {
        "colab": {
          "base_uri": "https://localhost:8080/"
        },
        "id": "Bagd3HluqNth",
        "outputId": "56bd0d34-5a23-48f1-e0b0-0afbc60f04bb"
      },
      "execution_count": 28,
      "outputs": [
        {
          "output_type": "stream",
          "name": "stdout",
          "text": [
            "9\n"
          ]
        }
      ]
    },
    {
      "cell_type": "code",
      "source": [
        "import random\n",
        "\n",
        "mylist = [\"section\", \"class\", \"name\"]\n",
        "random.shuffle(mylist)\n",
        "\n",
        "print(mylist)"
      ],
      "metadata": {
        "colab": {
          "base_uri": "https://localhost:8080/"
        },
        "id": "2H_9r7SxqVlZ",
        "outputId": "45d7e6ea-3360-4aeb-ef4f-b5d0577d38dc"
      },
      "execution_count": 29,
      "outputs": [
        {
          "output_type": "stream",
          "name": "stdout",
          "text": [
            "['section', 'class', 'name']\n"
          ]
        }
      ]
    }
  ]
}