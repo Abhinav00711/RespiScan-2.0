{
  "nbformat": 4,
  "nbformat_minor": 0,
  "metadata": {
    "colab": {
      "provenance": [],
      "collapsed_sections": []
    },
    "kernelspec": {
      "name": "python3",
      "display_name": "Python 3"
    },
    "language_info": {
      "name": "python"
    }
  },
  "cells": [
    {
      "cell_type": "markdown",
      "source": [
        "Import the given “Salaries.csv” file using pandas and perform the following using NumPy.\n",
        "\n",
        "a) Create structured array of Salaries\n",
        "\n",
        "b) Find the structure of the array created\n",
        "\n",
        "c) Find the number of attributes and samples in the given dataset\n",
        "\n",
        "d) Select and display the following\n",
        "  \n",
        "    a. All rows of first four attributes\n",
        "  \n",
        "    b. First 5 attributes and all samples\n",
        "  \n",
        "    c. 11 to 15 samples from attribute-4 and attribute-8\n",
        "  \n",
        "    d. 10 sample and 5 th attribute\n",
        "  \n",
        "    e. Extract attribute 4 and 5 and create a new array\n",
        "  \n",
        "    f. Give the summary of the Salaries dataset using any statistical/aggregation functions\n",
        "\n",
        "g) Which job has the maximum Salary?\n",
        "\n",
        "h) What is the average of the remote ratio?\n",
        "\n",
        "i) Find the average of remote_ratio attribute\n",
        "\n",
        "j) How many unique jobs are available?\n",
        "\n",
        "k) Which company location has the minimum salary in USD?\n",
        "\n",
        "l) How many members employment type is PT?\n",
        "\n",
        "m) How many different categories of company size you can find in the dataset?"
      ],
      "metadata": {
        "id": "dz-U3knmV21a"
      }
    },
    {
      "cell_type": "code",
      "execution_count": null,
      "metadata": {
        "id": "E8P37-hFVvk-"
      },
      "outputs": [],
      "source": [
        "import numpy as np\n",
        "import pandas as pd\n"
      ]
    },
    {
      "cell_type": "code",
      "source": [
        "data = pd.read_csv('/content/Salaries.csv')"
      ],
      "metadata": {
        "id": "cw3EYboDXFnt"
      },
      "execution_count": null,
      "outputs": []
    },
    {
      "cell_type": "code",
      "source": [
        "workyear=np.array(data['work_year'])[:50]\n",
        "workexperience=np.array(data['experience_level'])[:50]\n",
        "worktype=np.array(data['employment_type'])[:50]\n",
        "jobtitle=np.array(data['job_title'])[:50]\n",
        "salary=np.array(data['salary'])[:50]\n",
        "salaryusd=np.array(data['salary_in_usd'])[:50]\n",
        "residence=np.array(data['employee_residence'])[:50]\n",
        "companylocation=np.array(data['company_location'])[:50]\n",
        "companysize=np.array(data['company_size'])[:50]\n",
        "datastruct=np.zeros(50,dtype={'names':('work_year','experience_level','employment_type','job_title','salary(usd)','residence','location','size'),'formats':('i4','U20','U20','U20','i4','U20','U20','U20')})\n"
      ],
      "metadata": {
        "id": "Sd23qFhBWzyL"
      },
      "execution_count": null,
      "outputs": []
    },
    {
      "cell_type": "code",
      "source": [
        "datastruct['work_year']=workyear\n",
        "datastruct['experience_level']=workexperience\n",
        "datastruct['employment_type']=worktype\n",
        "datastruct['job_title']=jobtitle\n",
        "datastruct['salary(usd)']=salaryusd\n",
        "datastruct['residence']=residence\n",
        "datastruct['location']=companylocation\n",
        "datastruct['size']=companysize\n",
        "print(datastruct)\n"
      ],
      "metadata": {
        "id": "BfyFRW2FYaGn",
        "colab": {
          "base_uri": "https://localhost:8080/"
        },
        "outputId": "239a144a-bbe6-4b12-d3a1-90e87ece3f12"
      },
      "execution_count": null,
      "outputs": [
        {
          "output_type": "stream",
          "name": "stdout",
          "text": [
            "[(2020, 'MI', 'FT', 'Data Scientist',  79833, 'DE', 'DE', 'L')\n",
            " (2020, 'SE', 'FT', 'Machine Learning Sci', 260000, 'JP', 'JP', 'S')\n",
            " (2020, 'SE', 'FT', 'Big Data Engineer', 109024, 'GB', 'GB', 'M')\n",
            " (2020, 'MI', 'FT', 'Product Data Analyst',  20000, 'HN', 'HN', 'S')\n",
            " (2020, 'SE', 'FT', 'Machine Learning Eng', 150000, 'US', 'US', 'L')\n",
            " (2020, 'EN', 'FT', 'Data Analyst',  72000, 'US', 'US', 'L')\n",
            " (2020, 'SE', 'FT', 'Lead Data Scientist', 190000, 'US', 'US', 'S')\n",
            " (2020, 'MI', 'FT', 'Data Scientist',  35735, 'HU', 'HU', 'L')\n",
            " (2020, 'MI', 'FT', 'Business Data Analys', 135000, 'US', 'US', 'L')\n",
            " (2020, 'SE', 'FT', 'Lead Data Engineer', 125000, 'NZ', 'NZ', 'S')\n",
            " (2020, 'EN', 'FT', 'Data Scientist',  51321, 'FR', 'FR', 'S')\n",
            " (2020, 'MI', 'FT', 'Data Scientist',  40481, 'IN', 'IN', 'L')\n",
            " (2020, 'EN', 'FT', 'Data Scientist',  39916, 'FR', 'FR', 'M')\n",
            " (2020, 'MI', 'FT', 'Lead Data Analyst',  87000, 'US', 'US', 'L')\n",
            " (2020, 'MI', 'FT', 'Data Analyst',  85000, 'US', 'US', 'L')\n",
            " (2020, 'MI', 'FT', 'Data Analyst',   8000, 'PK', 'PK', 'L')\n",
            " (2020, 'EN', 'FT', 'Data Engineer',  41689, 'JP', 'JP', 'S')\n",
            " (2020, 'SE', 'FT', 'Big Data Engineer', 114047, 'PL', 'GB', 'S')\n",
            " (2020, 'EN', 'FT', 'Data Science Consult',   5707, 'IN', 'IN', 'M')\n",
            " (2020, 'MI', 'FT', 'Lead Data Engineer',  56000, 'PT', 'US', 'M')\n",
            " (2020, 'MI', 'FT', 'Machine Learning Eng',  43331, 'CN', 'CN', 'M')\n",
            " (2020, 'MI', 'FT', 'Product Data Analyst',   6072, 'IN', 'IN', 'L')\n",
            " (2020, 'SE', 'FT', 'Data Engineer',  47899, 'GR', 'GR', 'L')\n",
            " (2020, 'MI', 'FT', 'BI Data Analyst',  98000, 'US', 'US', 'M')\n",
            " (2020, 'MI', 'FT', 'Lead Data Scientist', 115000, 'AE', 'AE', 'L')\n",
            " (2020, 'EX', 'FT', 'Director of Data Sci', 325000, 'US', 'US', 'L')\n",
            " (2020, 'EN', 'FT', 'Research Scientist',  42000, 'NL', 'NL', 'L')\n",
            " (2020, 'SE', 'FT', 'Data Engineer',  33511, 'MX', 'MX', 'S')\n",
            " (2020, 'EN', 'CT', 'Business Data Analys', 100000, 'US', 'US', 'L')\n",
            " (2020, 'SE', 'FT', 'Machine Learning Man', 117104, 'CA', 'CA', 'L')\n",
            " (2020, 'MI', 'FT', 'Data Engineering Man',  59303, 'DE', 'DE', 'S')\n",
            " (2020, 'EN', 'FT', 'Big Data Engineer',  70000, 'US', 'US', 'L')\n",
            " (2020, 'SE', 'FT', 'Data Scientist',  68428, 'GR', 'US', 'L')\n",
            " (2020, 'MI', 'FT', 'Research Scientist', 450000, 'US', 'US', 'M')\n",
            " (2020, 'MI', 'FT', 'Data Analyst',  46759, 'FR', 'FR', 'L')\n",
            " (2020, 'MI', 'FT', 'Data Engineer',  74130, 'AT', 'AT', 'L')\n",
            " (2020, 'MI', 'FT', 'Data Science Consult', 103000, 'US', 'US', 'L')\n",
            " (2020, 'EN', 'FT', 'Machine Learning Eng', 250000, 'US', 'US', 'L')\n",
            " (2020, 'EN', 'FT', 'Data Analyst',  10000, 'NG', 'NG', 'S')\n",
            " (2020, 'EN', 'FT', 'Machine Learning Eng', 138000, 'US', 'US', 'S')\n",
            " (2020, 'MI', 'FT', 'Data Scientist',  45760, 'PH', 'US', 'S')\n",
            " (2020, 'EX', 'FT', 'Data Engineering Man',  79833, 'ES', 'ES', 'L')\n",
            " (2020, 'MI', 'FT', 'Machine Learning Inf',  50180, 'PT', 'PT', 'M')\n",
            " (2020, 'MI', 'FT', 'Data Engineer', 106000, 'US', 'US', 'L')\n",
            " (2020, 'MI', 'FT', 'Data Engineer', 112872, 'GB', 'GB', 'L')\n",
            " (2020, 'EN', 'PT', 'ML Engineer',  15966, 'DE', 'DE', 'S')\n",
            " (2020, 'MI', 'FT', 'Data Scientist',  76958, 'GB', 'GB', 'S')\n",
            " (2020, 'SE', 'FT', 'Data Engineer', 188000, 'US', 'US', 'L')\n",
            " (2020, 'MI', 'FT', 'Data Scientist', 105000, 'US', 'US', 'L')\n",
            " (2020, 'MI', 'FT', 'Data Engineer',  70139, 'FR', 'FR', 'L')]\n"
          ]
        }
      ]
    },
    {
      "cell_type": "code",
      "source": [
        "datastruct.shape"
      ],
      "metadata": {
        "id": "3U9Z_IJxkmtD",
        "colab": {
          "base_uri": "https://localhost:8080/"
        },
        "outputId": "7bdcc57b-0fad-4156-f183-46faaebae8fa"
      },
      "execution_count": null,
      "outputs": [
        {
          "output_type": "execute_result",
          "data": {
            "text/plain": [
              "(50,)"
            ]
          },
          "metadata": {},
          "execution_count": 18
        }
      ]
    },
    {
      "cell_type": "code",
      "source": [
        "datastruct.columns"
      ],
      "metadata": {
        "colab": {
          "base_uri": "https://localhost:8080/",
          "height": 165
        },
        "id": "HrT4Ss1fltVV",
        "outputId": "10773fd6-d2e6-4854-84ba-2b9b689e0eca"
      },
      "execution_count": null,
      "outputs": [
        {
          "output_type": "error",
          "ename": "AttributeError",
          "evalue": "ignored",
          "traceback": [
            "\u001b[0;31m---------------------------------------------------------------------------\u001b[0m",
            "\u001b[0;31mAttributeError\u001b[0m                            Traceback (most recent call last)",
            "\u001b[0;32m<ipython-input-22-50a79089dcae>\u001b[0m in \u001b[0;36m<module>\u001b[0;34m\u001b[0m\n\u001b[0;32m----> 1\u001b[0;31m \u001b[0mdatastruct\u001b[0m\u001b[0;34m.\u001b[0m\u001b[0mcolumns\u001b[0m\u001b[0;34m\u001b[0m\u001b[0;34m\u001b[0m\u001b[0m\n\u001b[0m",
            "\u001b[0;31mAttributeError\u001b[0m: 'numpy.ndarray' object has no attribute 'columns'"
          ]
        }
      ]
    },
    {
      "cell_type": "code",
      "source": [],
      "metadata": {
        "id": "2v-uACk3mOS4"
      },
      "execution_count": null,
      "outputs": []
    }
  ]
}