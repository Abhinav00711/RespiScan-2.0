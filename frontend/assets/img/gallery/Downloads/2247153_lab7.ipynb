{
  "nbformat": 4,
  "nbformat_minor": 0,
  "metadata": {
    "colab": {
      "provenance": [],
      "collapsed_sections": []
    },
    "kernelspec": {
      "name": "python3",
      "display_name": "Python 3"
    },
    "language_info": {
      "name": "python"
    }
  },
  "cells": [
    {
      "cell_type": "markdown",
      "source": [
        "Write a function named “LoveForIcecreams” which takes in a string and returns\n",
        "the number of times the word “Butterscotch” is in the given string.\n",
        "\n",
        "\n",
        "Example:\n",
        "LoveForIcecreams(“Butterscotch”)->; 1\n",
        "LoveForIcecreams(“Butterscotch Butterscotch”) ->2\n",
        "Note: Let the input string be of continuous letters like the above examples."
      ],
      "metadata": {
        "id": "rQL57jRuAeRb"
      }
    },
    {
      "cell_type": "code",
      "execution_count": 1,
      "metadata": {
        "colab": {
          "base_uri": "https://localhost:8080/"
        },
        "id": "eUAQa0uSAXnm",
        "outputId": "7c879555-fbd2-4dbd-d283-d22b8e1f042f"
      },
      "outputs": [
        {
          "output_type": "execute_result",
          "data": {
            "text/plain": [
              "2"
            ]
          },
          "metadata": {},
          "execution_count": 1
        }
      ],
      "source": [
        "import re\n",
        "def LoveForIcecreams(x):#defining a function\n",
        "  ans=re.findall('Butterscotch',x)#The re.findall () helps to get a list of all matching patterns.\n",
        "  return len(ans)\n",
        "\n",
        "LoveForIcecreams(\"Butterscotch is good but Chocolate with Butterscotch is better\")"
      ]
    },
    {
      "cell_type": "markdown",
      "source": [
        "Write a function “MyScottishAccent” which takes in a string and replaces every\n",
        "occurrence of “o” with “u”.\n",
        "\n",
        "Example:\n",
        "MyScottishAccent(“hello python coders”)-&gt;”hellu pythun cuders”\n",
        "MyScottishAccent(“computer geek”)-&gt;”cumputer geek”"
      ],
      "metadata": {
        "id": "Jipln_G6BgEa"
      }
    },
    {
      "cell_type": "code",
      "source": [
        "def MyScottishAccent(x):\n",
        "  ans2=re.sub('o','u',x)\n",
        "  return ans2\n",
        "\n",
        "print(MyScottishAccent(\"hello python coders\"))\n",
        "\n",
        "print(MyScottishAccent(\"computer geek\"))"
      ],
      "metadata": {
        "colab": {
          "base_uri": "https://localhost:8080/"
        },
        "id": "VCUEAxI0BT20",
        "outputId": "8f3f8a2b-8663-4866-ae0a-c5cc7d54d001"
      },
      "execution_count": null,
      "outputs": [
        {
          "output_type": "stream",
          "name": "stdout",
          "text": [
            "hellu pythun cuders\n",
            "cumputer geek\n"
          ]
        }
      ]
    },
    {
      "cell_type": "markdown",
      "source": [
        "Write a function called “LinkConsonants” which takes a string and returns True if\n",
        "one word ends with a consonant and the adjacent starts with a consonant\n",
        "\n",
        "Example:\n",
        "LinkConsonant(“Fairy Tales”)-&gt;True(“Fairy” ends with consonant and “Tale” starts\n",
        "with Consonant)\n",
        "\n",
        "LinkConsonant(“Funny Faces”)-&gt;True (“Funny” ends with consonant and “Faces”\n",
        "starts with Consonant)\n",
        "\n",
        "LinkConsonant(“These are crazy”)-&gt;False (“These” does not end with consonant and\n",
        "“are” does not start with consonant)"
      ],
      "metadata": {
        "id": "7tD1PpZLccJZ"
      }
    },
    {
      "cell_type": "code",
      "source": [
        "def EndsWithV(n):\n",
        "  return re.findall(r'[aeiouAEIOU]\\b',n)\n",
        "\n",
        "def StartsWithV(n):\n",
        "  return re.findall(r'\\b[aeiouAEIOU]',n)\n",
        "\n",
        "def LinkConsonants(s):\n",
        "  x=list(s.split())\n",
        "  f=0\n",
        "  end=list(map(EndsWithV,x))\n",
        "  start=list(map(StartsWithV,x))\n",
        "  for i in range(len(end)-1):\n",
        "    if len(end[i])==0:\n",
        "      if len(start[i+1])==0:\n",
        "        f+=1\n",
        "  \n",
        "  if(f==len(x)//2):\n",
        "    return True\n",
        "  else:\n",
        "    return False\n",
        "\n",
        "s=\"These are crazy\"\n",
        "print(LinkConsonants(s))"
      ],
      "metadata": {
        "colab": {
          "base_uri": "https://localhost:8080/"
        },
        "id": "9bZLJ2_EGPQt",
        "outputId": "efa8537d-1e85-4893-fc90-df58f2bcb84f"
      },
      "execution_count": null,
      "outputs": [
        {
          "output_type": "stream",
          "name": "stdout",
          "text": [
            "False\n"
          ]
        }
      ]
    },
    {
      "cell_type": "markdown",
      "source": [
        "Write a function called “LonelyLetter” which returns the number of ‘O’s” which\n",
        "are lonely.  ‘O’ is lonely if it is not immediately followed by another ‘O’. See the\n",
        "example for better understanding of  “lonely”. \n",
        "\n",
        "Example:\n",
        "LonelyLetter(Google)-> 0\n",
        "\n",
        "LonelyLetter(Robins)->1\n",
        "\n",
        "LonelyLetter(Smoothie)->0\n",
        "\n",
        "LonelyLetter(Ozone)->2 (“O” is lonely twice)\n",
        "\n",
        "Note: You can take the input as a numbers also"
      ],
      "metadata": {
        "id": "dACttz0kcijG"
      }
    },
    {
      "cell_type": "code",
      "source": [
        "def lonely(x):\n",
        "  check=re.findall('oo',x,re.IGNORECASE)\n",
        "  if(len(check)==0):\n",
        "    lone=re.findall('o',x,re.IGNORECASE)\n",
        "    return len(lone)\n",
        "  else:\n",
        "    lone=re.findall('o',x,re.IGNORECASE)\n",
        "    if len(lone)%2==0:\n",
        "      return len(lone)-(2*len(check))\n",
        "    else:\n",
        "      z=len(lone)\n",
        "      s='o'\n",
        "      z=len(i)\n",
        "      while(z>1):\n",
        "        s=s*z\n",
        "        check2=re.findall(z,x,re.I)\n",
        "        z-=2\n",
        "      if(len(lone)*len(check2)==len(lone)):\n",
        "        return 0\n",
        "      else:\n",
        "        if() \n",
        "\n",
        "print(lonely(\"Gooogle\"))\n",
        "print(lonely(\"Robins\"))\n",
        "print(lonely(\"Smoothie\"))\n",
        "print(lonely(\"Ozone\"))"
      ],
      "metadata": {
        "colab": {
          "base_uri": "https://localhost:8080/"
        },
        "id": "0tyKGGlmIRgJ",
        "outputId": "efd52b5e-097b-458a-ee12-261c2499e11a"
      },
      "execution_count": null,
      "outputs": [
        {
          "output_type": "stream",
          "name": "stdout",
          "text": [
            "1\n",
            "1\n",
            "0\n",
            "2\n"
          ]
        }
      ]
    },
    {
      "cell_type": "code",
      "source": [
        "s='o';\n",
        "s=s*3\n",
        "print(type(s))"
      ],
      "metadata": {
        "id": "VrrjfAN6bN4p",
        "colab": {
          "base_uri": "https://localhost:8080/"
        },
        "outputId": "8998bd94-72ad-4ee8-85c7-0508697a8150"
      },
      "execution_count": null,
      "outputs": [
        {
          "output_type": "stream",
          "name": "stdout",
          "text": [
            "<class 'str'>\n"
          ]
        }
      ]
    },
    {
      "cell_type": "code",
      "source": [],
      "metadata": {
        "id": "QaUomANe6aB2"
      },
      "execution_count": null,
      "outputs": []
    }
  ]
}