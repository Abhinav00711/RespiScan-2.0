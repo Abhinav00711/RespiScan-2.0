{
  "nbformat": 4,
  "nbformat_minor": 0,
  "metadata": {
    "colab": {
      "name": "2247153_PY4.ipynb",
      "provenance": [],
      "collapsed_sections": []
    },
    "kernelspec": {
      "name": "python3",
      "display_name": "Python 3"
    },
    "language_info": {
      "name": "python"
    }
  },
  "cells": [
    {
      "cell_type": "markdown",
      "source": [
        "QUESTION 1\n",
        " Write a function “MyPassion()”which takes in a sentence (a minimum of 5 words)\n",
        "and returns back a dictionary indicating the “mode” of each word."
      ],
      "metadata": {
        "id": "AVEl9GK1R9hR"
      }
    },
    {
      "cell_type": "code",
      "execution_count": null,
      "metadata": {
        "colab": {
          "base_uri": "https://localhost:8080/"
        },
        "id": "7XtrLPIkP47a",
        "outputId": "661437b3-ceb1-475b-dd82-085e503e060f"
      },
      "outputs": [
        {
          "output_type": "stream",
          "name": "stdout",
          "text": [
            "Enter a sentence: python\n",
            "Invalid. Must conatain atleast 5 words!\n",
            "Enter a sentence: python programming is fun everyday\n",
            "{'python': [], 'programming': ['r', 'g', 'm'], 'is': [], 'fun': [], 'everyday': ['e', 'y']}\n"
          ]
        }
      ],
      "source": [
        "def mode(x): #defining a function that returns mode of word\n",
        "  fre_quency = {} #set\n",
        "  \n",
        "  for i in x: \n",
        "    if i in fre_quency:\n",
        "        fre_quency[i] += 1 #counting if i occurs more than once\n",
        "    else:\n",
        "        fre_quency[i] = 1\n",
        "  return fre_quency\n",
        "\n",
        "def maximum(fre_quency):\n",
        "  num=list(fre_quency.values())\n",
        "  mx=max(num)\n",
        "  if num.count(mx)==len(num):\n",
        "    return 1\n",
        "  else:\n",
        "    return mx\n",
        "def mypassion():\n",
        " sentence=input(\"Enter the sentence: \")\n",
        " res=sentence.split()\n",
        " l=len(res)\n",
        " if(l<5):\n",
        "   print(\"Invalid. Must conatain atleast 5 words!\")#returns the fucntion if user enter invalid input\n",
        "   return mypassion()\n",
        " else:\n",
        "    pass\n",
        " answer=dict()#creates a final dictionary that prints the desired result\n",
        " for i in range(len(res)):\n",
        "  mod=list()\n",
        "  wrd=mode(res[i])\n",
        "  mx=maximum(wrd)\n",
        "\n",
        "  if(mx!=1):\n",
        "    for j in wrd:\n",
        "      if(wrd[j]==mx):\n",
        "        mod.append(j)\n",
        "  \n",
        "  answer[res[i]]=mod\n",
        " print(answer)\n",
        "mypassion()"
      ]
    },
    {
      "cell_type": "markdown",
      "source": [
        "QUESTION 2\n",
        "Creating a Google emulator:"
      ],
      "metadata": {
        "id": "k4X2kamRW5ij"
      }
    },
    {
      "cell_type": "code",
      "source": [
        "def MySearchEngine(s,l):\n",
        "  str3=\"\"\n",
        "  str2=0\n",
        "  minchange=10000\n",
        "  for i in l:\n",
        "    cou=0\n",
        "    for j in s:\n",
        "      if j not in i:\n",
        "        cou+=1\n",
        "    for k in i:\n",
        "      if k not in s:\n",
        "        cou+=1\n",
        "    if cou<minchange:\n",
        "      minchange=cou\n",
        "      str2=len(i)\n",
        "      str3=i\n",
        "    elif cou==minchange:\n",
        "      if str2>len(i):\n",
        "        str2=len(i)\n",
        "        print(i)\n",
        "        str3=i\n",
        "  return str3\n",
        "print(MySearchEngine('apple', ['cherry', 'pineapple', 'melon','orange','strawberry','rasberry']))"
      ],
      "metadata": {
        "colab": {
          "base_uri": "https://localhost:8080/"
        },
        "id": "Ck4vzpc2aftP",
        "outputId": "11bd8ec9-47b0-4caf-9d88-18986adb5e35"
      },
      "execution_count": 1,
      "outputs": [
        {
          "output_type": "stream",
          "name": "stdout",
          "text": [
            "pineapple\n"
          ]
        }
      ]
    }
  ]
}