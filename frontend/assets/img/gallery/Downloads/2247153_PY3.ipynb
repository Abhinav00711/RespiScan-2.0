{
  "nbformat": 4,
  "nbformat_minor": 0,
  "metadata": {
    "colab": {
      "name": "2247153_PY3.ipynb",
      "provenance": [],
      "collapsed_sections": []
    },
    "kernelspec": {
      "name": "python3",
      "display_name": "Python 3"
    },
    "language_info": {
      "name": "python"
    }
  },
  "cells": [
    {
      "cell_type": "markdown",
      "source": [
        "1. Write a function “PandamicSeason()” that takes a list and returns a string . Your\n",
        "input should be numbers having 1,2,3,4,5,6,7,8(zero and nine are not be included).\n",
        "Consider the following rules for returning the string\n",
        "\n",
        " 1,2,3,4 = o,n,l,i, etc…\n",
        " Add a dot (.) to the end.\n",
        " Change case of the first letters in “Online” and “Classes”\n",
        " Reverse the string"
      ],
      "metadata": {
        "id": "d4qWd4Ba5MNG"
      }
    },
    {
      "cell_type": "code",
      "source": [
        "def pandamicseason(l1):\n",
        "  b=\"\"\n",
        "  given_dic={1:'O',2:'N',3:'L',4:'I',5:'E',6:'C',7:'A',8:'S',} #defining the dictionary\n",
        "  for i in l1:\n",
        "    b += given_dic[i]\n",
        "  print(\"The string is: \",b+\".\") #prinitng the given string\n",
        "  print(\"Reverse :\",b[::-1]) #printing the reverse value for the given string\n",
        "pandamicseason([1,2,3,4,2,5,6,3,7,8,8,5,8])\n",
        "\n",
        "\n"
      ],
      "metadata": {
        "colab": {
          "base_uri": "https://localhost:8080/"
        },
        "id": "wFc234WI5Orp",
        "outputId": "da299301-7ea1-4d13-fadc-73b380c07d1a"
      },
      "execution_count": null,
      "outputs": [
        {
          "output_type": "stream",
          "name": "stdout",
          "text": [
            "The string is:  ONLINECLASSES.\n",
            "Reverse : SESSALCENILNO\n"
          ]
        }
      ]
    },
    {
      "cell_type": "markdown",
      "source": [
        "2. Consider the following list of tuples which represents the cost of a product, let’s say\n",
        "it is a laptop, and the list has brand name, additional number of features added to it,\n",
        "cost, and total tax on the product.\n",
        "[(‘Dell’, 5, 60,000, 4% of the cost), (‘Vivo’, 4, 57,000, 5% of the cost), (‘HP’,\n",
        "4, 59,000, 6% of the cost), (‘Samsung’, 3, 45,000, 3% of the cost)]"
      ],
      "metadata": {
        "id": "IlJKWO2WqZgm"
      }
    },
    {
      "cell_type": "markdown",
      "source": [
        "**a. Sort the list by increasing order of total price (cost + tax)**"
      ],
      "metadata": {
        "id": "pS7rKZxGqc1t"
      }
    },
    {
      "cell_type": "code",
      "execution_count": null,
      "metadata": {
        "id": "mQv6MCCWqRXj"
      },
      "outputs": [],
      "source": [
        "lst = [('Dell', 5, 60000, 4), ('Vivo', 4, 57000, 5), ('HP', 4, 59000, 6), ('Samsung', 3, 4500\n",
        "\n",
        "#1st part\n",
        "srt=lst.copy()\n",
        "srt.sort(key = lambda x:x[2]+((x[3]/100)*x[2])) print(”A”)\n",
        "print(srt) print()\n",
        "\n",
        "#2nd part\n",
        "srt2 = lst.copy() srt2.sort(key = lambda x:x[2]) print(”B”)\n",
        "print(srt2) print()\n",
        "\n",
        "#3rd part\n",
        "def discount(a):\n",
        "total = a[2]+((a[3]/100)*a[2]) if total>60000:\n",
        "total = total - (total*0.02)\n",
        "print(“Estimated Value of“,a[0] + “ : ”,total)\n",
        " \n",
        "\n",
        "print(“No discount applied in \",a[0] + ” .”)\n",
        "\n",
        "print(”C”)\n",
        "for i in range(len(lst)): discount(lst[i])\n"
      ]
    }
  ]
}