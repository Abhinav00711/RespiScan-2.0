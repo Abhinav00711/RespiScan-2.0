{
  "nbformat": 4,
  "nbformat_minor": 0,
  "metadata": {
    "colab": {
      "name": "2247153_PL_19.ipynb",
      "provenance": [],
      "collapsed_sections": []
    },
    "kernelspec": {
      "name": "python3",
      "display_name": "Python 3"
    },
    "language_info": {
      "name": "python"
    }
  },
  "cells": [
    {
      "cell_type": "markdown",
      "source": [
        "QUESTION 1:-\n",
        "You are an excellent “English Linguist” and also love to code in Python. Write a function “connect” that connects each previous word to the next word. Return the resulting string (removing duplicate characters in the overlap). More specifically, look at the overlap between the previous words ending letters and the next word's beginning letters.\n"
      ],
      "metadata": {
        "id": "iXMb06Izp8iD"
      }
    },
    {
      "cell_type": "code",
      "source": [
        "def connect():\n",
        "  l1=['move','over','very']\n",
        "  ans=l1[0]+l1[len(l1)-1][len(l1)-1:]\n",
        "  print(\"String after overlapping: \",ans)\n",
        "connect()"
      ],
      "metadata": {
        "colab": {
          "base_uri": "https://localhost:8080/"
        },
        "id": "eoT_elRoqBkk",
        "outputId": "7e713852-9db4-4546-edea-3bed9f88b2fc"
      },
      "execution_count": null,
      "outputs": [
        {
          "output_type": "stream",
          "name": "stdout",
          "text": [
            "String after overlapping:  movery\n"
          ]
        }
      ]
    },
    {
      "cell_type": "markdown",
      "source": [
        "QUESTION 2:-\n",
        "Write a Python program to Create two sets A &B and perform the following\n",
        "Print only unique items from two sets\n",
        "  print a set of elements present in Set A or B, but not both\n",
        "  Print common elements from two sets\n",
        "  Update setB by adding items from setA, except common items"
      ],
      "metadata": {
        "id": "COUUQrCFsTku"
      }
    },
    {
      "cell_type": "code",
      "source": [
        "A={\"name\",\"age\",\"number\"}\n",
        "B={\"email\",\"age\",\"address\",\"name\"}\n",
        "for x in A:\n",
        "  if x not in B:\n",
        "    C=A.union(B)\n",
        "    print(C)"
      ],
      "metadata": {
        "colab": {
          "base_uri": "https://localhost:8080/"
        },
        "id": "Pzrkyw47sWn1",
        "outputId": "02dc2ba2-06e3-4a6a-da37-8e32cd281df7"
      },
      "execution_count": null,
      "outputs": [
        {
          "output_type": "stream",
          "name": "stdout",
          "text": [
            "{'email', 'number', 'address', 'age', 'name'}\n"
          ]
        }
      ]
    },
    {
      "cell_type": "code",
      "source": [
        "C= A.union(B)\n",
        "print(\"Elements in both A&B: \",C)\n",
        "D=A.intersection(B)\n",
        "print(\"Elements common in A&B: \",D)\n",
        "U1=C-D\n",
        "U2=D-C\n",
        "print(\"Solution: \",U1.union(U2))\n"
      ],
      "metadata": {
        "colab": {
          "base_uri": "https://localhost:8080/"
        },
        "id": "SPNt6pQ5ugyD",
        "outputId": "249e7fd0-bb26-4efd-c325-1333404597c1"
      },
      "execution_count": null,
      "outputs": [
        {
          "output_type": "stream",
          "name": "stdout",
          "text": [
            "Elements in both A&B:  {'email', 'number', 'address', 'age', 'name'}\n",
            "Elements common in A&B:  {'age', 'name'}\n",
            "Solution:  {'address', 'number', 'email'}\n"
          ]
        }
      ]
    },
    {
      "cell_type": "code",
      "source": [
        "print(\"Common elements in A&B: \",D)"
      ],
      "metadata": {
        "colab": {
          "base_uri": "https://localhost:8080/"
        },
        "id": "gigcVuJGvoXE",
        "outputId": "3b647382-f13c-4814-f8ef-fda2de9eb74c"
      },
      "execution_count": null,
      "outputs": [
        {
          "output_type": "stream",
          "name": "stdout",
          "text": [
            "Common elements in A&B:  {'age', 'name'}\n"
          ]
        }
      ]
    },
    {
      "cell_type": "code",
      "source": [
        "B.update(U2)\n",
        "print(B)"
      ],
      "metadata": {
        "colab": {
          "base_uri": "https://localhost:8080/"
        },
        "id": "ZcoTpMtyvxup",
        "outputId": "a9297ad7-7787-4cb1-ac90-42aaf5485f58"
      },
      "execution_count": null,
      "outputs": [
        {
          "output_type": "stream",
          "name": "stdout",
          "text": [
            "{'address', 'email', 'age', 'name'}\n"
          ]
        }
      ]
    },
    {
      "cell_type": "markdown",
      "source": [
        "\n",
        "QUESTION 3:-\n",
        "DNA sequences consist of four base type molecules,which can be represented by the letters A,C,G and T,respectively. Write a Function,countbase,which takes a string argument representing a DNA sequence, and returns adict that contains the count of each base, with the base letter being the key and the count as the value. \n"
      ],
      "metadata": {
        "id": "4VT1WoaIwk8P"
      }
    },
    {
      "cell_type": "code",
      "source": [
        "def countbase():\n",
        "  adict={}\n",
        "  sequence=input(\"Enter the DNA string input (A,C,G,T only): \")\n",
        "  for i in sequence:\n",
        "    if i in adict:\n",
        "      adict[i]+=1\n",
        "    else:\n",
        "      adict[i]=1\n",
        "  print(\"The dictionary so formed is: \" +str(adict))\n",
        "countbase()\n"
      ],
      "metadata": {
        "id": "N_LkSZVdwuUn",
        "colab": {
          "base_uri": "https://localhost:8080/"
        },
        "outputId": "7df997a9-ea69-444e-efe4-c6c60d31d21c"
      },
      "execution_count": null,
      "outputs": [
        {
          "output_type": "stream",
          "name": "stdout",
          "text": [
            "Enter the DNA string input (A,C,G,T only): ACGTGGGAGTC\n",
            "The dictionary so formed is: {'A': 2, 'C': 2, 'G': 5, 'T': 2}\n"
          ]
        }
      ]
    },
    {
      "cell_type": "markdown",
      "source": [
        "QUESTION 4:-\n",
        "\n",
        "Write a python script to create a dictionary\n",
        "And perform the following \n",
        "Print the status of a given interface\n",
        "Print all the interface and IP whose status is up\n",
        "Give the count of ethernet interface\n"
      ],
      "metadata": {
        "id": "ohssReqLCz8H"
      }
    },
    {
      "cell_type": "code",
      "source": [
        "dict_four={1:{'Interface':'Ethernet0','IP':'1.1.1.1','Status':'Up'},\n",
        "    2:{'Interface':'Ethernet1','IP':'2.2.2.2','Status':'Down'},\n",
        "    3:{'Interface':'Serial0','IP':'3.3.3.3','Status':'Up'},\n",
        "    4:{'Interface':'Serial1','IP':'4.4.4.4','Status':'Up'}}\n",
        "\n",
        "st=input(\"Enter the interface: \")\n",
        "for i in dict_four:\n",
        "  if dict_four[i]['Interface']==st:\n",
        "    print(dict_four[i][\"Status\"])\n",
        "\n",
        "print(\"All the INTERFACE and IP whose STATUS is UP...\")\n",
        "for i in dict_four:\n",
        "  if dict_four[i]['Status']=='Up':\n",
        "    print(\"Interface:\",dict_four[i][\"Interface\"],\"IP:\",dict_four[i][\"IP\"])\n",
        "\n",
        "c=0\n",
        "for i in dict_four:\n",
        "  if \"Ethernet\" in dict_four[i]['Interface']:\n",
        "    c+=1\n",
        "\n",
        "print(\"Number of ethernet interface: \",c)"
      ],
      "metadata": {
        "colab": {
          "base_uri": "https://localhost:8080/"
        },
        "id": "wuffc5xWTu59",
        "outputId": "76909ed6-6b34-4d21-dee0-46f13b86183b"
      },
      "execution_count": null,
      "outputs": [
        {
          "output_type": "stream",
          "name": "stdout",
          "text": [
            "Enter the interface: serial0\n",
            "All the INTERFACE and IP whose STATUS is UP...\n",
            "Interface: Ethernet0 IP: 1.1.1.1\n",
            "Interface: Serial0 IP: 3.3.3.3\n",
            "Interface: Serial1 IP: 4.4.4.4\n",
            "Number of ethernet interface:  2\n"
          ]
        }
      ]
    },
    {
      "cell_type": "markdown",
      "source": [
        "QUESTION 5:-\n",
        "Write a function birthDate() that takes the full name of famous cricketer players (as a string) and their birthdates.You should use this dictionary to store the name of each player.  \n"
      ],
      "metadata": {
        "id": "qeS731Y5Ue_s"
      }
    },
    {
      "cell_type": "code",
      "source": [
        "def birthDate(x):\n",
        "   players= { 'Virat Kohli': '5 November 1988', \n",
        "            'Umesh Yadav': '25 October 1987', \n",
        "             'Manish Pandey': '10 September 1989', \n",
        "             'Rohit Sharma': '30 April 1987', \n",
        "           'Ravindra Jadeja': '6 December 1988', \n",
        "           'Hardik Pandya': '11 October 1993'}\n",
        "   if x in players:\n",
        "     return players[x]\n",
        "   else:\n",
        "     return None\n",
        "\n",
        "birthDate(\"Virat Kohli\")"
      ],
      "metadata": {
        "colab": {
          "base_uri": "https://localhost:8080/",
          "height": 36
        },
        "id": "DFOICdywUiqQ",
        "outputId": "3a760bfd-32a0-4afa-eef1-a107666106c6"
      },
      "execution_count": 5,
      "outputs": [
        {
          "output_type": "execute_result",
          "data": {
            "text/plain": [
              "'5 November 1988'"
            ],
            "application/vnd.google.colaboratory.intrinsic+json": {
              "type": "string"
            }
          },
          "metadata": {},
          "execution_count": 5
        }
      ]
    }
  ]
}