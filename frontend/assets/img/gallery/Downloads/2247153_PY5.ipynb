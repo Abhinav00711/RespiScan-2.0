{
  "nbformat": 4,
  "nbformat_minor": 0,
  "metadata": {
    "colab": {
      "name": "2247153_PY5.ipynb",
      "provenance": []
    },
    "kernelspec": {
      "name": "python3",
      "display_name": "Python 3"
    },
    "language_info": {
      "name": "python"
    }
  },
  "cells": [
    {
      "cell_type": "code",
      "execution_count": 1,
      "metadata": {
        "colab": {
          "base_uri": "https://localhost:8080/"
        },
        "id": "NxgtA20tYaxu",
        "outputId": "84738afb-4f48-4600-e818-bf6e8dd8baa8"
      },
      "outputs": [
        {
          "output_type": "stream",
          "name": "stdout",
          "text": [
            "dah di-di-di-dit di-dit di-di-dit  di-dit di-di-dit  di-di-dah-dit di-di-dah dah-dit \n",
            "THIS IS FUN\n"
          ]
        }
      ],
      "source": [
        "MORSE_CODE_DICT = { 'A':'.-', 'B':'-...',\n",
        "                    'C':'-.-.', 'D':'-..', 'E':'.',\n",
        "                    'F':'..-.', 'G':'--.', 'H':'....',\n",
        "                    'I':'..', 'J':'.---', 'K':'-.-',\n",
        "                    'L':'.-..', 'M':'--', 'N':'-.',\n",
        "                    'O':'---', 'P':'.--.', 'Q':'--.-',\n",
        "                    'R':'.-.', 'S':'...', 'T':'-',\n",
        "                    'U':'..-', 'V':'...-', 'W':'.--',\n",
        "                    'X':'-..-', 'Y':'-.--', 'Z':'--..',\n",
        "                    '1':'.----', '2':'..---', '3':'...--',\n",
        "                    '4':'....-', '5':'.....', '6':'-....',\n",
        "                    '7':'--...', '8':'---..', '9':'----.',\n",
        "                    '0':'-----', ', ':'--..--', '.':'.-.-.-',\n",
        "                    '?':'..--..', '/':'-..-.', '-':'-....-',\n",
        "                    '(':'-.--.', ')':'-.--.-'}\n",
        "\n",
        "MORSE_CODE_DICT2 = { 'A':'di-dah', 'B':'dah-di-di-dit',\n",
        "                    'C':'dah-di-dah-dit', 'D':'dah-di-dit', 'E':'dit',\n",
        "                    'F':'di-di-dah-dit', 'G':'dah-dah-dit', 'H':'di-di-di-dit',\n",
        "                    'I':'di-dit', 'J':'di-dah-dah-dah', 'K':'dah-di-dah',\n",
        "                    'L':'di-dah-di-dit', 'M':'dah-dah', 'N':'dah-dit',\n",
        "                    'O':'dah-dah-dah', 'P':'di-dah-dah-dit', 'Q':'dah-dah-di-dah',\n",
        "                    'R':'di-dah-dit', 'S':'di-di-dit', 'T':'dah',\n",
        "                    'U':'di-di-dah', 'V':'di-di-di-dah', 'W':'di-dah-dah',\n",
        "                    'X':'dah-di-di-dah', 'Y':'dah-di-dah-dah', 'Z':'dah-dah-di-dit',\n",
        "                    '1':'di-dah-dah-dah-dah', '2':'di-di-dah-dah-dah', '3':'di-di-di-dah-dah',\n",
        "                    '4':'di-di-di-di-dah', '5':'di-di-di-di-dit', '6':'dah-di-di-di-dit',\n",
        "                    '7':'dah-dah-di-di-dit', '8':'dah-dah-dah-di-dit', '9':'dah-dah-dah-dah-dit',\n",
        "                    '0':'dah-dah-dah-dah-dah', ', ':'dah-dah-di-di-dah-dah', '.':'di-dah-di-dah-di-dah',\n",
        "                    '?':'di-di-dah-dah-di-dit', '/':'dah-di-di-dah-dit', '-':'dah-di-di-di-di-dah',\n",
        "                    '(':'dah-di-dah-dah-dit', ')':'dah-di-dah-dah-di-dah'}\n",
        "\n",
        "def encrypt(message):\n",
        "    cipher = ''\n",
        "    for letter in message:\n",
        "        if letter != ' ':\n",
        "            cipher += MORSE_CODE_DICT2[letter] + ' '\n",
        "        else:\n",
        "            cipher += ' '\n",
        "    return cipher\n",
        " \n",
        "def decrypt(message):\n",
        "    message += ' '\n",
        "    decipher = ''\n",
        "    citext = ''\n",
        "    for letter in message:\n",
        "        if (letter != ' '):\n",
        "            i = 0\n",
        "            citext += letter\n",
        "        else:\n",
        "            i += 1\n",
        "            if i == 2 :\n",
        "                decipher += ' '\n",
        "            else:\n",
        "                decipher += list(MORSE_CODE_DICT.keys())[list(MORSE_CODE_DICT.values()).index(citext)]\n",
        "                citext = '' \n",
        "    return decipher\n",
        "\n",
        "\n",
        "message = \"- .... .. ...  .. ...  ..-. ..- -.\"\n",
        "result = decrypt(message)\n",
        "\n",
        "en_msg=result\n",
        "result2=encrypt(en_msg.upper())\n",
        "print(result2)\n",
        "print (result)"
      ]
    }
  ]
}