{
  "nbformat": 4,
  "nbformat_minor": 0,
  "metadata": {
    "colab": {
      "provenance": [],
      "collapsed_sections": []
    },
    "kernelspec": {
      "name": "python3",
      "display_name": "Python 3"
    },
    "language_info": {
      "name": "python"
    }
  },
  "cells": [
    {
      "cell_type": "markdown",
      "source": [
        "\n",
        "Write a python program which accepts as input a DOB in the format “dd/mm/yyyy “and prints one positive quality of the Zodiac sign he/she belongs to.\n",
        "Validate the input as follows\n",
        "\n",
        "1 If no input is given print your zodiac sign positive quality\n",
        "\n",
        "2 If “?” is typed help the user by telling him/her to enter Data of Birth in the\n",
        "required format\n",
        "\n",
        "3 If date is entered validate the correctness of the date\n",
        " \n",
        "4 If “q” or “Q” is entered invoke a user defined exception which quits the program after printing “Bye! Hope you run this program again”."
      ],
      "metadata": {
        "id": "vCJjkttL3q6n"
      }
    },
    {
      "cell_type": "code",
      "execution_count": 1,
      "metadata": {
        "id": "7NW9n1wj3n7E"
      },
      "outputs": [],
      "source": [
        "def validate(dob):\n",
        "  l = dob.split(\"/\")\n",
        "  d = int(l[0])\n",
        "  m = int(l[1])\n",
        "  y = int(l[2])\n",
        "  if d == 0 or m > 12 or m ==0 : \n",
        "    return 0   #invalid date case\n",
        "  elif m == 2:  #invalid cases for a debruary date\n",
        "    if y % 100 == 0 and y % 400 != 0 and d > 29: \n",
        "      return 0  #leap year rule exceptions\n",
        "    elif y%4 == 0 and d > 29:\n",
        "      return 0  #leap year\n",
        "    elif d > 28 and d != 29: \n",
        "      return 0\n",
        "  elif (m == 4 or m == 6 or m == 9 or m ==11) and (d > 30): \n",
        "    return 0 #months with dates limited to 30\n",
        "  else: \n",
        "    return 1"
      ]
    },
    {
      "cell_type": "code",
      "source": [
        "z = { 1:\"positiveAries\", \n",
        "     2:\"positiveTaurus\",\n",
        "     3:\"positiveGemini\",\n",
        "     4:\"positiveCancer\",\n",
        "     5:\"positiveLeo\",\n",
        "     6:\"positiveVirgo\",\n",
        "     7:\"positiveLibra\",\n",
        "     8:\"positiveScorpius\",\n",
        "     9:\"positiveSagittarius\",\n",
        "     10:\"positiveCapricorn\",\n",
        "     11:\"positiveAquarius\",\n",
        "     12:\"positivePisces\"\n",
        "}\n",
        "def zodiac(dob):\n",
        "  ds = dob.split(\"/\")\n",
        "  dl = [int(x) for x in ds]\n",
        "  if (dl[1] == 3 and dl[2]>=21) or (dl[1] == 4 and dl[2]<=19):\n",
        "    print(z[1])\n",
        "  elif (dl[1] == 4 and dl[2]>=20) or (dl[1] == 5 and dl[2]<=20):\n",
        "    print(z[2])\n",
        "  elif (dl[1] == 5 and dl[2]>=21) or (dl[1] == 6 and dl[2]<=21):\n",
        "    print(z[3])\n",
        "  elif (dl[1] == 6 and dl[2]>=22) or (dl[1] == 7 and dl[2]<=22):\n",
        "    print(z[4])\n",
        "  elif (dl[1] == 7 and dl[2]>=23) or (dl[1] == 8 and dl[2]<=22):\n",
        "    print(z[5])\n",
        "  elif (dl[1] == 8 and dl[2]>=23) or (dl[1] == 9 and dl[2]<=22):\n",
        "    print(z[6])\n",
        "  elif (dl[1] == 9 and dl[2]>=23) or (dl[1] == 10 and dl[2]<=23):\n",
        "    print(z[7])\n",
        "  elif (dl[1] == 10 and dl[2]>=24) or (dl[1] == 11 and dl[2]<=21):\n",
        "    print(z[8])\n",
        "  elif (dl[1] == 11 and dl[2]>=22) or (dl[1] == 12 and dl[2]<=21):\n",
        "    print(z[9])\n",
        "  elif (dl[1] == 12 and dl[2]>=22) or (dl[1] == 1 and dl[2]<=19):\n",
        "    print(z[10])\n",
        "  elif (dl[1] == 1 and dl[2]>=20) or (dl[1] == 2 and dl[2]<=18):\n",
        "    print(z[11])\n",
        "  elif (dl[1] == 2 and dl[2]>=19) or (dl[1] == 3 and dl[2]<=20):\n",
        "    print(z[12])"
      ],
      "metadata": {
        "id": "i2DtHYb1hjmO"
      },
      "execution_count": 2,
      "outputs": []
    },
    {
      "cell_type": "code",
      "source": [
        "i=1\n",
        "while(i):\n",
        "  dob = input(\"Input: \")\n",
        "  if dob == '?':\n",
        "    print(\"Input should be (dd/mm/yyyy) format or q/Q to quit\")\n",
        "  elif dob == '':\n",
        "    print(\"A positive quality\")\n",
        "  elif dob == 'q' or dob == 'Q':\n",
        "    raise TypeError(\"Bye! Hope you run this program again\")\n",
        "  else:\n",
        "    try:\n",
        "      if validate(dob):\n",
        "        zodiac(dob)\n",
        "      else:\n",
        "        raise NameError\n",
        "    except: print(\"Invalid input. run again\")"
      ],
      "metadata": {
        "colab": {
          "base_uri": "https://localhost:8080/",
          "height": 321
        },
        "id": "hnlyb9dbhpZr",
        "outputId": "450bbe10-86af-47cf-ba24-5b975d34d8f1"
      },
      "execution_count": 3,
      "outputs": [
        {
          "name": "stdout",
          "output_type": "stream",
          "text": [
            "Input: ?\n",
            "Input should be (dd/mm/yyyy) format or q/Q to quit\n",
            "Input: 05/09/2001\n",
            "positiveLibra\n",
            "Input: q\n"
          ]
        },
        {
          "output_type": "error",
          "ename": "TypeError",
          "evalue": "ignored",
          "traceback": [
            "\u001b[0;31m---------------------------------------------------------------------------\u001b[0m",
            "\u001b[0;31mTypeError\u001b[0m                                 Traceback (most recent call last)",
            "\u001b[0;32m<ipython-input-3-7265fe82164e>\u001b[0m in \u001b[0;36m<module>\u001b[0;34m\u001b[0m\n\u001b[1;32m      7\u001b[0m     \u001b[0mprint\u001b[0m\u001b[0;34m(\u001b[0m\u001b[0;34m\"A positive quality\"\u001b[0m\u001b[0;34m)\u001b[0m\u001b[0;34m\u001b[0m\u001b[0;34m\u001b[0m\u001b[0m\n\u001b[1;32m      8\u001b[0m   \u001b[0;32melif\u001b[0m \u001b[0mdob\u001b[0m \u001b[0;34m==\u001b[0m \u001b[0;34m'q'\u001b[0m \u001b[0;32mor\u001b[0m \u001b[0mdob\u001b[0m \u001b[0;34m==\u001b[0m \u001b[0;34m'Q'\u001b[0m\u001b[0;34m:\u001b[0m\u001b[0;34m\u001b[0m\u001b[0;34m\u001b[0m\u001b[0m\n\u001b[0;32m----> 9\u001b[0;31m     \u001b[0;32mraise\u001b[0m \u001b[0mTypeError\u001b[0m\u001b[0;34m(\u001b[0m\u001b[0;34m\"Bye! Hope you run this program again\"\u001b[0m\u001b[0;34m)\u001b[0m\u001b[0;34m\u001b[0m\u001b[0;34m\u001b[0m\u001b[0m\n\u001b[0m\u001b[1;32m     10\u001b[0m   \u001b[0;32melse\u001b[0m\u001b[0;34m:\u001b[0m\u001b[0;34m\u001b[0m\u001b[0;34m\u001b[0m\u001b[0m\n\u001b[1;32m     11\u001b[0m     \u001b[0;32mtry\u001b[0m\u001b[0;34m:\u001b[0m\u001b[0;34m\u001b[0m\u001b[0;34m\u001b[0m\u001b[0m\n",
            "\u001b[0;31mTypeError\u001b[0m: Bye! Hope you run this program again"
          ]
        }
      ]
    }
  ]
}