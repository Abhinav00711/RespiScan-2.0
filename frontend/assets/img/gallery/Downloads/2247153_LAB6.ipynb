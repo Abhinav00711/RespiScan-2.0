{
  "nbformat": 4,
  "nbformat_minor": 0,
  "metadata": {
    "colab": {
      "name": "2247153_LAB6.ipynb",
      "provenance": [],
      "collapsed_sections": []
    },
    "kernelspec": {
      "name": "python3",
      "display_name": "Python 3"
    },
    "language_info": {
      "name": "python"
    }
  },
  "cells": [
    {
      "cell_type": "code",
      "source": [
        "class ball():#defining class named as ball\n",
        "  def __init__(self,_x,_y):\n",
        "    self.x=_x\n",
        "    self.y=_y\n",
        "  def getx(self):\n",
        "    return self.x\n",
        "  def gety(self):\n",
        "    return self.y\n",
        "  def getPos(self):\n",
        "    print(f\"Ball is at ({x},{y})\")\n",
        "\n",
        "class MyFavGame(ball):\n",
        "  def __init__(self,_x,_y):\n",
        "    self.gl=0\n",
        "    self.gb=0\n",
        "    self.pl=0\n",
        "    self.pb=0\n",
        "    self.l_point=0\n",
        "    self.r_point=0\n",
        "    ball.__init__(self,_x,_y)\n",
        "  def getGrdDim(self):\n",
        "    _gl=int(input(\"Enter the Ground length: \"))\n",
        "    _gb=int(input(\"Enter the Ground Breath: \"))\n",
        "    self.gl=_gl\n",
        "    self.gb=_gb\n",
        "  def getPostDim(self):\n",
        "    _pl=int(input(\"Enter the Post length: \"))\n",
        "    _pb=int(input(\"Enter the Post Breath: \"))\n",
        "    self.pl=_pl\n",
        "    self.pb=_pb\n",
        "  def checkPoint(self,x,y):\n",
        "    p_start=(self.gb/2)+(self.pl/2)\n",
        "    p_end=(self.gb/2)-(self.pl/2)\n",
        "    if(x<self.gl/2):\n",
        "      if(x<=0 and x>=-2 and y>=4 and y<= 8):\n",
        "        self.l_point+=1\n",
        "    else:\n",
        "      if(x<=26 and x>=24 and y>=4 and y<= 8):\n",
        "        self.r_point+=1\n",
        "  def getpoints(self):\n",
        "    print(f\"Right: {self.r_point} and Left: {self.l_point}\")\n",
        "    \n",
        "\n",
        "obj = MyFavGame(-1,7)  \n",
        "obj.getGrdDim()\n",
        "obj.getPostDim()\n",
        "x=obj.getx()\n",
        "y=obj.gety()\n",
        "obj.checkPoint(x,y)\n",
        "obj.getpoints()\n",
        "\n",
        "    "
      ],
      "metadata": {
        "id": "pdzMl3EYFALI",
        "colab": {
          "base_uri": "https://localhost:8080/"
        },
        "outputId": "5b9a696c-fba4-4ebb-83cd-366c996f0444"
      },
      "execution_count": 1,
      "outputs": [
        {
          "output_type": "stream",
          "name": "stdout",
          "text": [
            "Enter the Ground length: 10\n",
            "Enter the Ground Breath: 20\n",
            "Enter the Post length: 5\n",
            "Enter the Post Breath: 3\n",
            "Right: 0 and Left: 1\n"
          ]
        }
      ]
    }
  ]
}