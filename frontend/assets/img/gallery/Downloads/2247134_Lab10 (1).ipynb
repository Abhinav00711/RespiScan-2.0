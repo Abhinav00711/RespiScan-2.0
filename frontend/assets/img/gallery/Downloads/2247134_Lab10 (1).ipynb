{
  "nbformat": 4,
  "nbformat_minor": 0,
  "metadata": {
    "colab": {
      "provenance": []
    },
    "kernelspec": {
      "name": "python3",
      "display_name": "Python 3"
    },
    "language_info": {
      "name": "python"
    }
  },
  "cells": [
    {
      "cell_type": "code",
      "execution_count": null,
      "metadata": {
        "colab": {
          "base_uri": "https://localhost:8080/"
        },
        "id": "guKoZY0dSbDp",
        "outputId": "75213db6-9c07-46e5-daef-edac48258ce9"
      },
      "outputs": [
        {
          "output_type": "stream",
          "name": "stdout",
          "text": [
            "work_year              int64\n",
            "experience_level      object\n",
            "employment_type       object\n",
            "job_title             object\n",
            "salary                 int64\n",
            "salary_currency       object\n",
            "salary_in_usd          int64\n",
            "employee_residence    object\n",
            "remote_ratio           int64\n",
            "company_location      object\n",
            "company_size          object\n",
            "dtype: object\n",
            "Index(['work_year', 'experience_level', 'employment_type', 'job_title',\n",
            "       'salary', 'salary_currency', 'salary_in_usd', 'employee_residence',\n",
            "       'remote_ratio', 'company_location', 'company_size'],\n",
            "      dtype='object')\n"
          ]
        }
      ],
      "source": [
        "import numpy as np\n",
        "import pandas as pd\n",
        "df= pd.read_csv('/content/Salaries - Salaries.csv')\n",
        "print(df.dtypes)\n",
        "print(df.columns)"
      ]
    },
    {
      "cell_type": "code",
      "source": [
        "#a)\n",
        "sa=np.zeros(607,dtype={'names':('work_year','experience_level','employment_type','job_title','salary','salary_currency','salary_in_usd','employee_residence','remote_ratio','company_location','company_size'),\n",
        "            'formats':('int64','object','object','object','int64','object','int64','object','int64','object','object')})\n",
        "sa['work_year']=df['work_year']\n",
        "sa['experience_level']=df['experience_level']\n",
        "sa['employment_type']=df['employment_type']\n",
        "sa['job_title']=df['job_title']\n",
        "sa['salary']=df['salary']\n",
        "sa['salary_currency']=df['salary_currency']\n",
        "sa['salary_in_usd']=df['salary_in_usd']\n",
        "sa['employee_residence']=df['employee_residence']\n",
        "sa['remote_ratio']=df['remote_ratio']\n",
        "sa['company_location']=df['company_location']\n",
        "sa['company_size']=df['company_size']\n",
        "print(sa[:10])"
      ],
      "metadata": {
        "colab": {
          "base_uri": "https://localhost:8080/"
        },
        "id": "iaJygVC-S8X4",
        "outputId": "d1794954-bd0d-4d14-dd7f-b870b6cb24c0"
      },
      "execution_count": null,
      "outputs": [
        {
          "output_type": "stream",
          "name": "stdout",
          "text": [
            "[(2020, 'MI', 'FT', 'Data Scientist',    70000, 'EUR',  79833, 'DE',   0, 'DE', 'L')\n",
            " (2020, 'SE', 'FT', 'Machine Learning Scientist',   260000, 'USD', 260000, 'JP',   0, 'JP', 'S')\n",
            " (2020, 'SE', 'FT', 'Big Data Engineer',    85000, 'GBP', 109024, 'GB',  50, 'GB', 'M')\n",
            " (2020, 'MI', 'FT', 'Product Data Analyst',    20000, 'USD',  20000, 'HN',   0, 'HN', 'S')\n",
            " (2020, 'SE', 'FT', 'Machine Learning Engineer',   150000, 'USD', 150000, 'US',  50, 'US', 'L')\n",
            " (2020, 'EN', 'FT', 'Data Analyst',    72000, 'USD',  72000, 'US', 100, 'US', 'L')\n",
            " (2020, 'SE', 'FT', 'Lead Data Scientist',   190000, 'USD', 190000, 'US', 100, 'US', 'S')\n",
            " (2020, 'MI', 'FT', 'Data Scientist', 11000000, 'HUF',  35735, 'HU',  50, 'HU', 'L')\n",
            " (2020, 'MI', 'FT', 'Business Data Analyst',   135000, 'USD', 135000, 'US', 100, 'US', 'L')\n",
            " (2020, 'SE', 'FT', 'Lead Data Engineer',   125000, 'USD', 125000, 'NZ',  50, 'NZ', 'S')]\n"
          ]
        }
      ]
    },
    {
      "cell_type": "code",
      "source": [
        "#b)structure of array\n",
        "print(sa.shape)\n",
        "print(sa.size)\n",
        "print(sa.dtype)"
      ],
      "metadata": {
        "colab": {
          "base_uri": "https://localhost:8080/"
        },
        "id": "0mO0IZKJUuvt",
        "outputId": "fd4d3e18-28c7-4456-cc5d-ed0c4fdad1ee"
      },
      "execution_count": null,
      "outputs": [
        {
          "output_type": "stream",
          "name": "stdout",
          "text": [
            "(607,)\n",
            "607\n",
            "[('work_year', '<i8'), ('experience_level', 'O'), ('employment_type', 'O'), ('job_title', 'O'), ('salary', '<i8'), ('salary_currency', 'O'), ('salary_in_usd', '<i8'), ('employee_residence', 'O'), ('remote_ratio', '<i8'), ('company_location', 'O'), ('company_size', 'O')]\n"
          ]
        }
      ]
    },
    {
      "cell_type": "code",
      "source": [
        "#c)\n",
        "print(\"Number of attributes:\",len(df.columns))\n",
        "print(\"Number of samples   :\",len(df.index))"
      ],
      "metadata": {
        "colab": {
          "base_uri": "https://localhost:8080/"
        },
        "id": "h3cIPMYgVps6",
        "outputId": "1a04cdb3-8c50-4852-e761-ec40d9fdecc0"
      },
      "execution_count": null,
      "outputs": [
        {
          "output_type": "stream",
          "name": "stdout",
          "text": [
            "Number of attributes: 11\n",
            "Number of samples   : 607\n"
          ]
        }
      ]
    },
    {
      "cell_type": "code",
      "source": [
        "#d)a.\n",
        "print(df.iloc[:,:4])  "
      ],
      "metadata": {
        "colab": {
          "base_uri": "https://localhost:8080/"
        },
        "id": "c4AwMk4BWQdG",
        "outputId": "727924a5-69fe-460a-830c-7febc09b975d"
      },
      "execution_count": null,
      "outputs": [
        {
          "output_type": "stream",
          "name": "stdout",
          "text": [
            "     work_year experience_level employment_type                   job_title\n",
            "0         2020               MI              FT              Data Scientist\n",
            "1         2020               SE              FT  Machine Learning Scientist\n",
            "2         2020               SE              FT           Big Data Engineer\n",
            "3         2020               MI              FT        Product Data Analyst\n",
            "4         2020               SE              FT   Machine Learning Engineer\n",
            "..         ...              ...             ...                         ...\n",
            "602       2022               SE              FT               Data Engineer\n",
            "603       2022               SE              FT               Data Engineer\n",
            "604       2022               SE              FT                Data Analyst\n",
            "605       2022               SE              FT                Data Analyst\n",
            "606       2022               MI              FT                AI Scientist\n",
            "\n",
            "[607 rows x 4 columns]\n"
          ]
        }
      ]
    },
    {
      "cell_type": "code",
      "source": [
        "#d)b.\n",
        "print(df.iloc[:,:5])  "
      ],
      "metadata": {
        "colab": {
          "base_uri": "https://localhost:8080/"
        },
        "id": "v4GgufFvaWmD",
        "outputId": "7033cd29-c2f4-4b9c-ff29-2f6531dea040"
      },
      "execution_count": null,
      "outputs": [
        {
          "output_type": "stream",
          "name": "stdout",
          "text": [
            "     work_year experience_level employment_type                   job_title  \\\n",
            "0         2020               MI              FT              Data Scientist   \n",
            "1         2020               SE              FT  Machine Learning Scientist   \n",
            "2         2020               SE              FT           Big Data Engineer   \n",
            "3         2020               MI              FT        Product Data Analyst   \n",
            "4         2020               SE              FT   Machine Learning Engineer   \n",
            "..         ...              ...             ...                         ...   \n",
            "602       2022               SE              FT               Data Engineer   \n",
            "603       2022               SE              FT               Data Engineer   \n",
            "604       2022               SE              FT                Data Analyst   \n",
            "605       2022               SE              FT                Data Analyst   \n",
            "606       2022               MI              FT                AI Scientist   \n",
            "\n",
            "     salary  \n",
            "0     70000  \n",
            "1    260000  \n",
            "2     85000  \n",
            "3     20000  \n",
            "4    150000  \n",
            "..      ...  \n",
            "602  154000  \n",
            "603  126000  \n",
            "604  129000  \n",
            "605  150000  \n",
            "606  200000  \n",
            "\n",
            "[607 rows x 5 columns]\n"
          ]
        }
      ]
    },
    {
      "cell_type": "code",
      "source": [
        "#d)c.\n",
        "print(df.iloc[11:16,[4,8]]) "
      ],
      "metadata": {
        "colab": {
          "base_uri": "https://localhost:8080/"
        },
        "id": "eNa-Lja_b6RK",
        "outputId": "dde500f4-54f1-4b20-8dc8-2bf359da0754"
      },
      "execution_count": null,
      "outputs": [
        {
          "output_type": "stream",
          "name": "stdout",
          "text": [
            "     salary  remote_ratio\n",
            "11  3000000             0\n",
            "12    35000             0\n",
            "13    87000           100\n",
            "14    85000           100\n",
            "15     8000            50\n"
          ]
        }
      ]
    },
    {
      "cell_type": "code",
      "source": [
        "#d)d.\n",
        "print(df.iloc[10,5])  "
      ],
      "metadata": {
        "colab": {
          "base_uri": "https://localhost:8080/"
        },
        "id": "W29gHQVrciNF",
        "outputId": "7133ab0f-8921-4243-82e3-2e79acf5f23b"
      },
      "execution_count": null,
      "outputs": [
        {
          "output_type": "stream",
          "name": "stdout",
          "text": [
            "EUR\n"
          ]
        }
      ]
    },
    {
      "cell_type": "code",
      "source": [
        "#e)\n",
        "a4=df.iloc[:,4]\n",
        "a5=df.iloc[:,5]\n",
        "newa=np.array((a4,a5))\n",
        "print(newa[:10])"
      ],
      "metadata": {
        "colab": {
          "base_uri": "https://localhost:8080/"
        },
        "id": "mvPARunicvdA",
        "outputId": "a422fb57-3b12-4170-8d55-13c4e7202c24"
      },
      "execution_count": null,
      "outputs": [
        {
          "output_type": "stream",
          "name": "stdout",
          "text": [
            "[[70000 260000 85000 ... 129000 150000 200000]\n",
            " ['EUR' 'USD' 'GBP' ... 'USD' 'USD' 'USD']]\n"
          ]
        }
      ]
    },
    {
      "cell_type": "code",
      "source": [
        "#f)\n",
        "df.describe()"
      ],
      "metadata": {
        "colab": {
          "base_uri": "https://localhost:8080/",
          "height": 300
        },
        "id": "Iycuat7NdglT",
        "outputId": "15c8b37d-2990-47c8-b6b4-4f131a91eb3a"
      },
      "execution_count": null,
      "outputs": [
        {
          "output_type": "execute_result",
          "data": {
            "text/plain": [
              "         work_year        salary  salary_in_usd  remote_ratio\n",
              "count   607.000000  6.070000e+02     607.000000     607.00000\n",
              "mean   2021.405272  3.240001e+05  112297.869852      70.92257\n",
              "std       0.692133  1.544357e+06   70957.259411      40.70913\n",
              "min    2020.000000  4.000000e+03    2859.000000       0.00000\n",
              "25%    2021.000000  7.000000e+04   62726.000000      50.00000\n",
              "50%    2022.000000  1.150000e+05  101570.000000     100.00000\n",
              "75%    2022.000000  1.650000e+05  150000.000000     100.00000\n",
              "max    2022.000000  3.040000e+07  600000.000000     100.00000"
            ],
            "text/html": [
              "\n",
              "  <div id=\"df-9990b34c-2160-4cf3-8184-2d4d199da6d2\">\n",
              "    <div class=\"colab-df-container\">\n",
              "      <div>\n",
              "<style scoped>\n",
              "    .dataframe tbody tr th:only-of-type {\n",
              "        vertical-align: middle;\n",
              "    }\n",
              "\n",
              "    .dataframe tbody tr th {\n",
              "        vertical-align: top;\n",
              "    }\n",
              "\n",
              "    .dataframe thead th {\n",
              "        text-align: right;\n",
              "    }\n",
              "</style>\n",
              "<table border=\"1\" class=\"dataframe\">\n",
              "  <thead>\n",
              "    <tr style=\"text-align: right;\">\n",
              "      <th></th>\n",
              "      <th>work_year</th>\n",
              "      <th>salary</th>\n",
              "      <th>salary_in_usd</th>\n",
              "      <th>remote_ratio</th>\n",
              "    </tr>\n",
              "  </thead>\n",
              "  <tbody>\n",
              "    <tr>\n",
              "      <th>count</th>\n",
              "      <td>607.000000</td>\n",
              "      <td>6.070000e+02</td>\n",
              "      <td>607.000000</td>\n",
              "      <td>607.00000</td>\n",
              "    </tr>\n",
              "    <tr>\n",
              "      <th>mean</th>\n",
              "      <td>2021.405272</td>\n",
              "      <td>3.240001e+05</td>\n",
              "      <td>112297.869852</td>\n",
              "      <td>70.92257</td>\n",
              "    </tr>\n",
              "    <tr>\n",
              "      <th>std</th>\n",
              "      <td>0.692133</td>\n",
              "      <td>1.544357e+06</td>\n",
              "      <td>70957.259411</td>\n",
              "      <td>40.70913</td>\n",
              "    </tr>\n",
              "    <tr>\n",
              "      <th>min</th>\n",
              "      <td>2020.000000</td>\n",
              "      <td>4.000000e+03</td>\n",
              "      <td>2859.000000</td>\n",
              "      <td>0.00000</td>\n",
              "    </tr>\n",
              "    <tr>\n",
              "      <th>25%</th>\n",
              "      <td>2021.000000</td>\n",
              "      <td>7.000000e+04</td>\n",
              "      <td>62726.000000</td>\n",
              "      <td>50.00000</td>\n",
              "    </tr>\n",
              "    <tr>\n",
              "      <th>50%</th>\n",
              "      <td>2022.000000</td>\n",
              "      <td>1.150000e+05</td>\n",
              "      <td>101570.000000</td>\n",
              "      <td>100.00000</td>\n",
              "    </tr>\n",
              "    <tr>\n",
              "      <th>75%</th>\n",
              "      <td>2022.000000</td>\n",
              "      <td>1.650000e+05</td>\n",
              "      <td>150000.000000</td>\n",
              "      <td>100.00000</td>\n",
              "    </tr>\n",
              "    <tr>\n",
              "      <th>max</th>\n",
              "      <td>2022.000000</td>\n",
              "      <td>3.040000e+07</td>\n",
              "      <td>600000.000000</td>\n",
              "      <td>100.00000</td>\n",
              "    </tr>\n",
              "  </tbody>\n",
              "</table>\n",
              "</div>\n",
              "      <button class=\"colab-df-convert\" onclick=\"convertToInteractive('df-9990b34c-2160-4cf3-8184-2d4d199da6d2')\"\n",
              "              title=\"Convert this dataframe to an interactive table.\"\n",
              "              style=\"display:none;\">\n",
              "        \n",
              "  <svg xmlns=\"http://www.w3.org/2000/svg\" height=\"24px\"viewBox=\"0 0 24 24\"\n",
              "       width=\"24px\">\n",
              "    <path d=\"M0 0h24v24H0V0z\" fill=\"none\"/>\n",
              "    <path d=\"M18.56 5.44l.94 2.06.94-2.06 2.06-.94-2.06-.94-.94-2.06-.94 2.06-2.06.94zm-11 1L8.5 8.5l.94-2.06 2.06-.94-2.06-.94L8.5 2.5l-.94 2.06-2.06.94zm10 10l.94 2.06.94-2.06 2.06-.94-2.06-.94-.94-2.06-.94 2.06-2.06.94z\"/><path d=\"M17.41 7.96l-1.37-1.37c-.4-.4-.92-.59-1.43-.59-.52 0-1.04.2-1.43.59L10.3 9.45l-7.72 7.72c-.78.78-.78 2.05 0 2.83L4 21.41c.39.39.9.59 1.41.59.51 0 1.02-.2 1.41-.59l7.78-7.78 2.81-2.81c.8-.78.8-2.07 0-2.86zM5.41 20L4 18.59l7.72-7.72 1.47 1.35L5.41 20z\"/>\n",
              "  </svg>\n",
              "      </button>\n",
              "      \n",
              "  <style>\n",
              "    .colab-df-container {\n",
              "      display:flex;\n",
              "      flex-wrap:wrap;\n",
              "      gap: 12px;\n",
              "    }\n",
              "\n",
              "    .colab-df-convert {\n",
              "      background-color: #E8F0FE;\n",
              "      border: none;\n",
              "      border-radius: 50%;\n",
              "      cursor: pointer;\n",
              "      display: none;\n",
              "      fill: #1967D2;\n",
              "      height: 32px;\n",
              "      padding: 0 0 0 0;\n",
              "      width: 32px;\n",
              "    }\n",
              "\n",
              "    .colab-df-convert:hover {\n",
              "      background-color: #E2EBFA;\n",
              "      box-shadow: 0px 1px 2px rgba(60, 64, 67, 0.3), 0px 1px 3px 1px rgba(60, 64, 67, 0.15);\n",
              "      fill: #174EA6;\n",
              "    }\n",
              "\n",
              "    [theme=dark] .colab-df-convert {\n",
              "      background-color: #3B4455;\n",
              "      fill: #D2E3FC;\n",
              "    }\n",
              "\n",
              "    [theme=dark] .colab-df-convert:hover {\n",
              "      background-color: #434B5C;\n",
              "      box-shadow: 0px 1px 3px 1px rgba(0, 0, 0, 0.15);\n",
              "      filter: drop-shadow(0px 1px 2px rgba(0, 0, 0, 0.3));\n",
              "      fill: #FFFFFF;\n",
              "    }\n",
              "  </style>\n",
              "\n",
              "      <script>\n",
              "        const buttonEl =\n",
              "          document.querySelector('#df-9990b34c-2160-4cf3-8184-2d4d199da6d2 button.colab-df-convert');\n",
              "        buttonEl.style.display =\n",
              "          google.colab.kernel.accessAllowed ? 'block' : 'none';\n",
              "\n",
              "        async function convertToInteractive(key) {\n",
              "          const element = document.querySelector('#df-9990b34c-2160-4cf3-8184-2d4d199da6d2');\n",
              "          const dataTable =\n",
              "            await google.colab.kernel.invokeFunction('convertToInteractive',\n",
              "                                                     [key], {});\n",
              "          if (!dataTable) return;\n",
              "\n",
              "          const docLinkHtml = 'Like what you see? Visit the ' +\n",
              "            '<a target=\"_blank\" href=https://colab.research.google.com/notebooks/data_table.ipynb>data table notebook</a>'\n",
              "            + ' to learn more about interactive tables.';\n",
              "          element.innerHTML = '';\n",
              "          dataTable['output_type'] = 'display_data';\n",
              "          await google.colab.output.renderOutput(dataTable, element);\n",
              "          const docLink = document.createElement('div');\n",
              "          docLink.innerHTML = docLinkHtml;\n",
              "          element.appendChild(docLink);\n",
              "        }\n",
              "      </script>\n",
              "    </div>\n",
              "  </div>\n",
              "  "
            ]
          },
          "metadata": {},
          "execution_count": 81
        }
      ]
    },
    {
      "cell_type": "code",
      "source": [
        "#g)\n",
        "print(\"Job with max salary:\",df.job_title.loc[df['salary_in_usd'].idxmax()])"
      ],
      "metadata": {
        "colab": {
          "base_uri": "https://localhost:8080/"
        },
        "id": "EdgwoaQ6d-2-",
        "outputId": "4881063b-c869-406d-b3cc-7f7de19545d5"
      },
      "execution_count": null,
      "outputs": [
        {
          "output_type": "stream",
          "name": "stdout",
          "text": [
            "Job with max salary: Principal Data Engineer\n"
          ]
        }
      ]
    },
    {
      "cell_type": "code",
      "source": [
        "#h) and i)\n",
        "print(\"Remote ratio average=\",df['remote_ratio'].mean())"
      ],
      "metadata": {
        "colab": {
          "base_uri": "https://localhost:8080/"
        },
        "id": "EVb4zsSEeWk3",
        "outputId": "75dc1cb9-cade-46dc-ae99-5a86eeb1499a"
      },
      "execution_count": null,
      "outputs": [
        {
          "output_type": "stream",
          "name": "stdout",
          "text": [
            "Remote ratio average= 70.92257001647447\n"
          ]
        }
      ]
    },
    {
      "cell_type": "code",
      "source": [
        "#j)\n",
        "print(\"Number of unique jobs:\",df.job_title.nunique())"
      ],
      "metadata": {
        "colab": {
          "base_uri": "https://localhost:8080/"
        },
        "id": "fo1YlwqJfs0Y",
        "outputId": "d0c62477-c070-4e1a-f601-8ece295e8e8f"
      },
      "execution_count": null,
      "outputs": [
        {
          "output_type": "stream",
          "name": "stdout",
          "text": [
            "Number of unique jobs: 50\n"
          ]
        }
      ]
    },
    {
      "cell_type": "code",
      "source": [
        "#k)\n",
        "print(\"Company location with min salary:\",df.company_location.loc[df['salary_in_usd'].idxmin()])"
      ],
      "metadata": {
        "colab": {
          "base_uri": "https://localhost:8080/"
        },
        "id": "EilWoktOhH3-",
        "outputId": "688f5aa5-55d4-4aec-9529-971b35b9b66c"
      },
      "execution_count": null,
      "outputs": [
        {
          "output_type": "stream",
          "name": "stdout",
          "text": [
            "Company location with min salary: MX\n"
          ]
        }
      ]
    },
    {
      "cell_type": "code",
      "source": [
        "#l)\n",
        "print(\"Number of PT:\",df.employment_type.value_counts()['PT'])"
      ],
      "metadata": {
        "colab": {
          "base_uri": "https://localhost:8080/"
        },
        "id": "3-HTp_KJhO-n",
        "outputId": "3fadad35-0ebd-4584-e394-1ef5f4f8f41c"
      },
      "execution_count": null,
      "outputs": [
        {
          "output_type": "stream",
          "name": "stdout",
          "text": [
            "Number of PT: 10\n"
          ]
        }
      ]
    },
    {
      "cell_type": "code",
      "source": [
        "#m)\n",
        "print(\"Number of company size categories:\",df.company_size.nunique())"
      ],
      "metadata": {
        "colab": {
          "base_uri": "https://localhost:8080/"
        },
        "id": "S_r8NQ77hS-Z",
        "outputId": "7e7c0821-0f6a-4909-8e1d-64f7f5a4773b"
      },
      "execution_count": null,
      "outputs": [
        {
          "output_type": "stream",
          "name": "stdout",
          "text": [
            "Number of company size categories: 3\n"
          ]
        }
      ]
    }
  ]
}